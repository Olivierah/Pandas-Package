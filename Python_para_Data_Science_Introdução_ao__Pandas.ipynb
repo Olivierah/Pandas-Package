{
  "nbformat": 4,
  "nbformat_minor": 0,
  "metadata": {
    "colab": {
      "name": "Python_para_Data_Science_Introdução_ao_ Pandas.ipynb",
      "provenance": [],
      "authorship_tag": "ABX9TyOoRXhAHz3dvW5F5EHvrLbs"
    },
    "kernelspec": {
      "name": "python3",
      "display_name": "Python 3"
    },
    "language_info": {
      "name": "python"
    }
  },
  "cells": [
    {
      "cell_type": "markdown",
      "metadata": {
        "id": "MCjmiTRp4-4n"
      },
      "source": [
        "#Conhecendo o Pandas\n",
        "\n",
        "#### Pandas é uma biblioteca/pacote muito utilizada para análise e manipulação de dados. Por ser bem versátil, ela permite trabalhar de forma rápida e eficiente com arquivos de vários tipo, sendo alguns deles o csv, xlsx, xls, txt, json, etc.\n",
        "\n",
        "## Documentação: https://pandas.pydata.org/"
      ]
    },
    {
      "cell_type": "markdown",
      "metadata": {
        "id": "dR0F5Bz5TMXs"
      },
      "source": [
        "# Importando o pacote Pandas"
      ]
    },
    {
      "cell_type": "code",
      "metadata": {
        "id": "3geyEWU0DfM1"
      },
      "source": [
        "# Por questões de boas práticas, a comunidade faz o uso de alguns apelidos para alguns pacotes. \n",
        "# No caso do pandas utilizamos o \"pd\"\n",
        "# para associar o apelido ao pacote, pasta utilizar o \"as\" para realizar a associação\n",
        "\n",
        "import pandas as pd"
      ],
      "execution_count": 1,
      "outputs": []
    },
    {
      "cell_type": "markdown",
      "metadata": {
        "id": "chMSIw3UTVd9"
      },
      "source": [
        "# Fazendo o upload de arquivos pelo Google Colab"
      ]
    },
    {
      "cell_type": "code",
      "metadata": {
        "id": "CcBRsEZ0ThpS"
      },
      "source": [
        "from google.colab import files"
      ],
      "execution_count": 2,
      "outputs": []
    },
    {
      "cell_type": "code",
      "metadata": {
        "id": "Pr9t_gvrILaj"
      },
      "source": [
        "# files.upload()"
      ],
      "execution_count": 3,
      "outputs": []
    },
    {
      "cell_type": "markdown",
      "metadata": {
        "id": "b0Jhh3BDTmUo"
      },
      "source": [
        "# Lendo o arquivo CSV\n",
        "\n",
        "### CSV significa \"*comma separated values*\", ou seja, valores separados por vírgula. Em alguns casos, dependendo da fonte dos dados, eles podem ter separadores diferentes da vírgula, como o \"ponto e vírgula\" (;). em casos como esses, ao ler o CSV, você deve informar o tipo de separador pelo \"sep\" dentro da função \"read_csv\", como mostra o exemplo abaixo.\n",
        "\n",
        "#### Mais informações sobre o read_csv, acesse a documentação em: https://pandas.pydata.org/pandas-docs/version/0.23/generated/pandas.read_csv.html"
      ]
    },
    {
      "cell_type": "code",
      "metadata": {
        "colab": {
          "base_uri": "https://localhost:8080/",
          "height": 419
        },
        "id": "Bpb6_2dhIOMx",
        "outputId": "d6842b4e-54c2-4c1f-a101-70a0705fad40"
      },
      "source": [
        "db = pd.read_csv('db.csv', sep=';')\n",
        "db"
      ],
      "execution_count": 4,
      "outputs": [
        {
          "output_type": "execute_result",
          "data": {
            "text/html": [
              "<div>\n",
              "<style scoped>\n",
              "    .dataframe tbody tr th:only-of-type {\n",
              "        vertical-align: middle;\n",
              "    }\n",
              "\n",
              "    .dataframe tbody tr th {\n",
              "        vertical-align: top;\n",
              "    }\n",
              "\n",
              "    .dataframe thead th {\n",
              "        text-align: right;\n",
              "    }\n",
              "</style>\n",
              "<table border=\"1\" class=\"dataframe\">\n",
              "  <thead>\n",
              "    <tr style=\"text-align: right;\">\n",
              "      <th></th>\n",
              "      <th>Nome</th>\n",
              "      <th>Motor</th>\n",
              "      <th>Ano</th>\n",
              "      <th>Quilometragem</th>\n",
              "      <th>Zero_km</th>\n",
              "      <th>Acessórios</th>\n",
              "      <th>Valor</th>\n",
              "    </tr>\n",
              "  </thead>\n",
              "  <tbody>\n",
              "    <tr>\n",
              "      <th>0</th>\n",
              "      <td>Jetta Variant</td>\n",
              "      <td>Motor 4.0 Turbo</td>\n",
              "      <td>2003</td>\n",
              "      <td>44410.0</td>\n",
              "      <td>False</td>\n",
              "      <td>['Rodas de liga', 'Travas elétricas', 'Piloto ...</td>\n",
              "      <td>88078.64</td>\n",
              "    </tr>\n",
              "    <tr>\n",
              "      <th>1</th>\n",
              "      <td>Passat</td>\n",
              "      <td>Motor Diesel</td>\n",
              "      <td>1991</td>\n",
              "      <td>5712.0</td>\n",
              "      <td>False</td>\n",
              "      <td>['Central multimídia', 'Teto panorâmico', 'Fre...</td>\n",
              "      <td>106161.94</td>\n",
              "    </tr>\n",
              "    <tr>\n",
              "      <th>2</th>\n",
              "      <td>Crossfox</td>\n",
              "      <td>Motor Diesel V8</td>\n",
              "      <td>1990</td>\n",
              "      <td>37123.0</td>\n",
              "      <td>False</td>\n",
              "      <td>['Piloto automático', 'Controle de estabilidad...</td>\n",
              "      <td>72832.16</td>\n",
              "    </tr>\n",
              "    <tr>\n",
              "      <th>3</th>\n",
              "      <td>DS5</td>\n",
              "      <td>Motor 2.4 Turbo</td>\n",
              "      <td>2019</td>\n",
              "      <td>NaN</td>\n",
              "      <td>True</td>\n",
              "      <td>['Travas elétricas', '4 X 4', 'Vidros elétrico...</td>\n",
              "      <td>124549.07</td>\n",
              "    </tr>\n",
              "    <tr>\n",
              "      <th>4</th>\n",
              "      <td>Aston Martin DB4</td>\n",
              "      <td>Motor 2.4 Turbo</td>\n",
              "      <td>2006</td>\n",
              "      <td>25757.0</td>\n",
              "      <td>False</td>\n",
              "      <td>['Rodas de liga', '4 X 4', 'Central multimídia...</td>\n",
              "      <td>92612.10</td>\n",
              "    </tr>\n",
              "    <tr>\n",
              "      <th>...</th>\n",
              "      <td>...</td>\n",
              "      <td>...</td>\n",
              "      <td>...</td>\n",
              "      <td>...</td>\n",
              "      <td>...</td>\n",
              "      <td>...</td>\n",
              "      <td>...</td>\n",
              "    </tr>\n",
              "    <tr>\n",
              "      <th>253</th>\n",
              "      <td>Phantom 2013</td>\n",
              "      <td>Motor V8</td>\n",
              "      <td>2014</td>\n",
              "      <td>27505.0</td>\n",
              "      <td>False</td>\n",
              "      <td>['Controle de estabilidade', 'Piloto automátic...</td>\n",
              "      <td>51759.58</td>\n",
              "    </tr>\n",
              "    <tr>\n",
              "      <th>254</th>\n",
              "      <td>Cadillac Ciel concept</td>\n",
              "      <td>Motor V8</td>\n",
              "      <td>1991</td>\n",
              "      <td>29981.0</td>\n",
              "      <td>False</td>\n",
              "      <td>['Bancos de couro', 'Painel digital', 'Sensor ...</td>\n",
              "      <td>51667.06</td>\n",
              "    </tr>\n",
              "    <tr>\n",
              "      <th>255</th>\n",
              "      <td>Classe GLK</td>\n",
              "      <td>Motor 5.0 V8 Bi-Turbo</td>\n",
              "      <td>2002</td>\n",
              "      <td>52637.0</td>\n",
              "      <td>False</td>\n",
              "      <td>['Rodas de liga', 'Controle de tração', 'Câmbi...</td>\n",
              "      <td>68934.03</td>\n",
              "    </tr>\n",
              "    <tr>\n",
              "      <th>256</th>\n",
              "      <td>Aston Martin DB5</td>\n",
              "      <td>Motor Diesel</td>\n",
              "      <td>1996</td>\n",
              "      <td>7685.0</td>\n",
              "      <td>False</td>\n",
              "      <td>['Ar condicionado', '4 X 4', 'Câmbio automátic...</td>\n",
              "      <td>122110.90</td>\n",
              "    </tr>\n",
              "    <tr>\n",
              "      <th>257</th>\n",
              "      <td>Macan</td>\n",
              "      <td>Motor Diesel V6</td>\n",
              "      <td>1992</td>\n",
              "      <td>50188.0</td>\n",
              "      <td>False</td>\n",
              "      <td>['Central multimídia', 'Teto panorâmico', 'Vid...</td>\n",
              "      <td>90381.47</td>\n",
              "    </tr>\n",
              "  </tbody>\n",
              "</table>\n",
              "<p>258 rows × 7 columns</p>\n",
              "</div>"
            ],
            "text/plain": [
              "                      Nome  ...      Valor\n",
              "0            Jetta Variant  ...   88078.64\n",
              "1                   Passat  ...  106161.94\n",
              "2                 Crossfox  ...   72832.16\n",
              "3                      DS5  ...  124549.07\n",
              "4         Aston Martin DB4  ...   92612.10\n",
              "..                     ...  ...        ...\n",
              "253           Phantom 2013  ...   51759.58\n",
              "254  Cadillac Ciel concept  ...   51667.06\n",
              "255             Classe GLK  ...   68934.03\n",
              "256       Aston Martin DB5  ...  122110.90\n",
              "257                  Macan  ...   90381.47\n",
              "\n",
              "[258 rows x 7 columns]"
            ]
          },
          "metadata": {
            "tags": []
          },
          "execution_count": 4
        }
      ]
    },
    {
      "cell_type": "markdown",
      "metadata": {
        "id": "l680b4MFW9GD"
      },
      "source": [
        "# Visualização de dados e seus tipos"
      ]
    },
    {
      "cell_type": "code",
      "metadata": {
        "colab": {
          "base_uri": "https://localhost:8080/",
          "height": 204
        },
        "id": "USsPul3iIijt",
        "outputId": "d8a397c4-97ef-448c-a1d2-3d07a40f2dbc"
      },
      "source": [
        "# Para visualizar uma amostra dos dados, podemos utilizar head.\n",
        "# Se não for passado nenhum valor por parâmetro, por padrão, ele retornará as 5 primeiras linhas do dataframe.\n",
        "\n",
        "db.head()"
      ],
      "execution_count": 5,
      "outputs": [
        {
          "output_type": "execute_result",
          "data": {
            "text/html": [
              "<div>\n",
              "<style scoped>\n",
              "    .dataframe tbody tr th:only-of-type {\n",
              "        vertical-align: middle;\n",
              "    }\n",
              "\n",
              "    .dataframe tbody tr th {\n",
              "        vertical-align: top;\n",
              "    }\n",
              "\n",
              "    .dataframe thead th {\n",
              "        text-align: right;\n",
              "    }\n",
              "</style>\n",
              "<table border=\"1\" class=\"dataframe\">\n",
              "  <thead>\n",
              "    <tr style=\"text-align: right;\">\n",
              "      <th></th>\n",
              "      <th>Nome</th>\n",
              "      <th>Motor</th>\n",
              "      <th>Ano</th>\n",
              "      <th>Quilometragem</th>\n",
              "      <th>Zero_km</th>\n",
              "      <th>Acessórios</th>\n",
              "      <th>Valor</th>\n",
              "    </tr>\n",
              "  </thead>\n",
              "  <tbody>\n",
              "    <tr>\n",
              "      <th>0</th>\n",
              "      <td>Jetta Variant</td>\n",
              "      <td>Motor 4.0 Turbo</td>\n",
              "      <td>2003</td>\n",
              "      <td>44410.0</td>\n",
              "      <td>False</td>\n",
              "      <td>['Rodas de liga', 'Travas elétricas', 'Piloto ...</td>\n",
              "      <td>88078.64</td>\n",
              "    </tr>\n",
              "    <tr>\n",
              "      <th>1</th>\n",
              "      <td>Passat</td>\n",
              "      <td>Motor Diesel</td>\n",
              "      <td>1991</td>\n",
              "      <td>5712.0</td>\n",
              "      <td>False</td>\n",
              "      <td>['Central multimídia', 'Teto panorâmico', 'Fre...</td>\n",
              "      <td>106161.94</td>\n",
              "    </tr>\n",
              "    <tr>\n",
              "      <th>2</th>\n",
              "      <td>Crossfox</td>\n",
              "      <td>Motor Diesel V8</td>\n",
              "      <td>1990</td>\n",
              "      <td>37123.0</td>\n",
              "      <td>False</td>\n",
              "      <td>['Piloto automático', 'Controle de estabilidad...</td>\n",
              "      <td>72832.16</td>\n",
              "    </tr>\n",
              "    <tr>\n",
              "      <th>3</th>\n",
              "      <td>DS5</td>\n",
              "      <td>Motor 2.4 Turbo</td>\n",
              "      <td>2019</td>\n",
              "      <td>NaN</td>\n",
              "      <td>True</td>\n",
              "      <td>['Travas elétricas', '4 X 4', 'Vidros elétrico...</td>\n",
              "      <td>124549.07</td>\n",
              "    </tr>\n",
              "    <tr>\n",
              "      <th>4</th>\n",
              "      <td>Aston Martin DB4</td>\n",
              "      <td>Motor 2.4 Turbo</td>\n",
              "      <td>2006</td>\n",
              "      <td>25757.0</td>\n",
              "      <td>False</td>\n",
              "      <td>['Rodas de liga', '4 X 4', 'Central multimídia...</td>\n",
              "      <td>92612.10</td>\n",
              "    </tr>\n",
              "  </tbody>\n",
              "</table>\n",
              "</div>"
            ],
            "text/plain": [
              "               Nome  ...      Valor\n",
              "0     Jetta Variant  ...   88078.64\n",
              "1            Passat  ...  106161.94\n",
              "2          Crossfox  ...   72832.16\n",
              "3               DS5  ...  124549.07\n",
              "4  Aston Martin DB4  ...   92612.10\n",
              "\n",
              "[5 rows x 7 columns]"
            ]
          },
          "metadata": {
            "tags": []
          },
          "execution_count": 5
        }
      ]
    },
    {
      "cell_type": "code",
      "metadata": {
        "colab": {
          "base_uri": "https://localhost:8080/",
          "height": 359
        },
        "id": "SBLOnNp9W1yC",
        "outputId": "93beb449-195c-4cc2-eb0c-876c84248afa"
      },
      "source": [
        "# Para visualizar mais valores, basta passar por parâmetro a quantidades de linha que deseja ver \n",
        "# Abaixo vamos ver as 10 primeiras linhas\n",
        "\n",
        "db.head(10)"
      ],
      "execution_count": 6,
      "outputs": [
        {
          "output_type": "execute_result",
          "data": {
            "text/html": [
              "<div>\n",
              "<style scoped>\n",
              "    .dataframe tbody tr th:only-of-type {\n",
              "        vertical-align: middle;\n",
              "    }\n",
              "\n",
              "    .dataframe tbody tr th {\n",
              "        vertical-align: top;\n",
              "    }\n",
              "\n",
              "    .dataframe thead th {\n",
              "        text-align: right;\n",
              "    }\n",
              "</style>\n",
              "<table border=\"1\" class=\"dataframe\">\n",
              "  <thead>\n",
              "    <tr style=\"text-align: right;\">\n",
              "      <th></th>\n",
              "      <th>Nome</th>\n",
              "      <th>Motor</th>\n",
              "      <th>Ano</th>\n",
              "      <th>Quilometragem</th>\n",
              "      <th>Zero_km</th>\n",
              "      <th>Acessórios</th>\n",
              "      <th>Valor</th>\n",
              "    </tr>\n",
              "  </thead>\n",
              "  <tbody>\n",
              "    <tr>\n",
              "      <th>0</th>\n",
              "      <td>Jetta Variant</td>\n",
              "      <td>Motor 4.0 Turbo</td>\n",
              "      <td>2003</td>\n",
              "      <td>44410.0</td>\n",
              "      <td>False</td>\n",
              "      <td>['Rodas de liga', 'Travas elétricas', 'Piloto ...</td>\n",
              "      <td>88078.64</td>\n",
              "    </tr>\n",
              "    <tr>\n",
              "      <th>1</th>\n",
              "      <td>Passat</td>\n",
              "      <td>Motor Diesel</td>\n",
              "      <td>1991</td>\n",
              "      <td>5712.0</td>\n",
              "      <td>False</td>\n",
              "      <td>['Central multimídia', 'Teto panorâmico', 'Fre...</td>\n",
              "      <td>106161.94</td>\n",
              "    </tr>\n",
              "    <tr>\n",
              "      <th>2</th>\n",
              "      <td>Crossfox</td>\n",
              "      <td>Motor Diesel V8</td>\n",
              "      <td>1990</td>\n",
              "      <td>37123.0</td>\n",
              "      <td>False</td>\n",
              "      <td>['Piloto automático', 'Controle de estabilidad...</td>\n",
              "      <td>72832.16</td>\n",
              "    </tr>\n",
              "    <tr>\n",
              "      <th>3</th>\n",
              "      <td>DS5</td>\n",
              "      <td>Motor 2.4 Turbo</td>\n",
              "      <td>2019</td>\n",
              "      <td>NaN</td>\n",
              "      <td>True</td>\n",
              "      <td>['Travas elétricas', '4 X 4', 'Vidros elétrico...</td>\n",
              "      <td>124549.07</td>\n",
              "    </tr>\n",
              "    <tr>\n",
              "      <th>4</th>\n",
              "      <td>Aston Martin DB4</td>\n",
              "      <td>Motor 2.4 Turbo</td>\n",
              "      <td>2006</td>\n",
              "      <td>25757.0</td>\n",
              "      <td>False</td>\n",
              "      <td>['Rodas de liga', '4 X 4', 'Central multimídia...</td>\n",
              "      <td>92612.10</td>\n",
              "    </tr>\n",
              "    <tr>\n",
              "      <th>5</th>\n",
              "      <td>Palio Weekend</td>\n",
              "      <td>Motor 1.8 16v</td>\n",
              "      <td>2012</td>\n",
              "      <td>10728.0</td>\n",
              "      <td>False</td>\n",
              "      <td>['Sensor de estacionamento', 'Teto panorâmico'...</td>\n",
              "      <td>97497.73</td>\n",
              "    </tr>\n",
              "    <tr>\n",
              "      <th>6</th>\n",
              "      <td>A5</td>\n",
              "      <td>Motor 4.0 Turbo</td>\n",
              "      <td>2019</td>\n",
              "      <td>NaN</td>\n",
              "      <td>True</td>\n",
              "      <td>['Câmbio automático', 'Câmera de estacionament...</td>\n",
              "      <td>56445.20</td>\n",
              "    </tr>\n",
              "    <tr>\n",
              "      <th>7</th>\n",
              "      <td>Série 3 Cabrio</td>\n",
              "      <td>Motor 1.0 8v</td>\n",
              "      <td>2009</td>\n",
              "      <td>77599.0</td>\n",
              "      <td>False</td>\n",
              "      <td>['Controle de estabilidade', 'Sensor crepuscul...</td>\n",
              "      <td>112310.44</td>\n",
              "    </tr>\n",
              "    <tr>\n",
              "      <th>8</th>\n",
              "      <td>Dodge Jorney</td>\n",
              "      <td>Motor 3.0 32v</td>\n",
              "      <td>2010</td>\n",
              "      <td>99197.0</td>\n",
              "      <td>False</td>\n",
              "      <td>['Vidros elétricos', 'Piloto automático', 'Tet...</td>\n",
              "      <td>120716.27</td>\n",
              "    </tr>\n",
              "    <tr>\n",
              "      <th>9</th>\n",
              "      <td>Carens</td>\n",
              "      <td>Motor 5.0 V8 Bi-Turbo</td>\n",
              "      <td>2011</td>\n",
              "      <td>37978.0</td>\n",
              "      <td>False</td>\n",
              "      <td>['Ar condicionado', 'Painel digital', 'Central...</td>\n",
              "      <td>76566.49</td>\n",
              "    </tr>\n",
              "  </tbody>\n",
              "</table>\n",
              "</div>"
            ],
            "text/plain": [
              "               Nome  ...      Valor\n",
              "0     Jetta Variant  ...   88078.64\n",
              "1            Passat  ...  106161.94\n",
              "2          Crossfox  ...   72832.16\n",
              "3               DS5  ...  124549.07\n",
              "4  Aston Martin DB4  ...   92612.10\n",
              "5     Palio Weekend  ...   97497.73\n",
              "6                A5  ...   56445.20\n",
              "7    Série 3 Cabrio  ...  112310.44\n",
              "8      Dodge Jorney  ...  120716.27\n",
              "9            Carens  ...   76566.49\n",
              "\n",
              "[10 rows x 7 columns]"
            ]
          },
          "metadata": {
            "tags": []
          },
          "execution_count": 6
        }
      ]
    },
    {
      "cell_type": "code",
      "metadata": {
        "colab": {
          "base_uri": "https://localhost:8080/"
        },
        "id": "w-C1CKTXX4vi",
        "outputId": "220e541e-46a0-4dae-dd7f-1ed386e4da08"
      },
      "source": [
        "# Vamos descobrir o formato do nosso dataframe\n",
        "\n",
        "db.shape "
      ],
      "execution_count": 7,
      "outputs": [
        {
          "output_type": "execute_result",
          "data": {
            "text/plain": [
              "(258, 7)"
            ]
          },
          "metadata": {
            "tags": []
          },
          "execution_count": 7
        }
      ]
    },
    {
      "cell_type": "code",
      "metadata": {
        "id": "p2u9fDqEXUNm"
      },
      "source": [
        "# Agora que sabemos que o nosso dataframe possui 258 linhas e 7 colunas\n",
        "\n",
        "# para visualizar todas as linhas, podemos utilizar o \"pd.options\"\n",
        "\n",
        "pd.options.display.max_rows = 258 # O 'display.max_rows' vai exibir a quantidade de linhas que for informado, no caso são 258.\n",
        "\n",
        "# Também podemos utilizar o \"pd.options\" para visualizar todas as colunas\n",
        "\n",
        "pd.options.display.max_columns = 7 # Ao invés de passar 'display.max_rows', vamos passar o 'display.max_columns'\n",
        "\n",
        "# Agora, sempre que tentar visualizar seu dataframe, você verá a quantidade de linhas e colunas que forma configuradas pelo pd.options"
      ],
      "execution_count": 8,
      "outputs": []
    },
    {
      "cell_type": "markdown",
      "metadata": {
        "id": "zJ75I-yrcQ8y"
      },
      "source": [
        "#### Para mais informações sobre Options and settings, acesse: https://pandas.pydata.org/pandas-docs/stable/user_guide/options.html"
      ]
    },
    {
      "cell_type": "code",
      "metadata": {
        "id": "4HYO5rZ5cm9r"
      },
      "source": [
        "# Para melhor visualização, vamos definir os valores como 10 linhas e 7 colunas\n",
        "\n",
        "pd.options.display.max_columns = 7\n",
        "pd.options.display.max_rows = 10"
      ],
      "execution_count": 9,
      "outputs": []
    },
    {
      "cell_type": "code",
      "metadata": {
        "colab": {
          "base_uri": "https://localhost:8080/",
          "height": 419
        },
        "id": "Png0PFyNczI4",
        "outputId": "092c2bd3-5dce-4aa4-db84-f7a5b66389f2"
      },
      "source": [
        "db"
      ],
      "execution_count": 10,
      "outputs": [
        {
          "output_type": "execute_result",
          "data": {
            "text/html": [
              "<div>\n",
              "<style scoped>\n",
              "    .dataframe tbody tr th:only-of-type {\n",
              "        vertical-align: middle;\n",
              "    }\n",
              "\n",
              "    .dataframe tbody tr th {\n",
              "        vertical-align: top;\n",
              "    }\n",
              "\n",
              "    .dataframe thead th {\n",
              "        text-align: right;\n",
              "    }\n",
              "</style>\n",
              "<table border=\"1\" class=\"dataframe\">\n",
              "  <thead>\n",
              "    <tr style=\"text-align: right;\">\n",
              "      <th></th>\n",
              "      <th>Nome</th>\n",
              "      <th>Motor</th>\n",
              "      <th>Ano</th>\n",
              "      <th>Quilometragem</th>\n",
              "      <th>Zero_km</th>\n",
              "      <th>Acessórios</th>\n",
              "      <th>Valor</th>\n",
              "    </tr>\n",
              "  </thead>\n",
              "  <tbody>\n",
              "    <tr>\n",
              "      <th>0</th>\n",
              "      <td>Jetta Variant</td>\n",
              "      <td>Motor 4.0 Turbo</td>\n",
              "      <td>2003</td>\n",
              "      <td>44410.0</td>\n",
              "      <td>False</td>\n",
              "      <td>['Rodas de liga', 'Travas elétricas', 'Piloto ...</td>\n",
              "      <td>88078.64</td>\n",
              "    </tr>\n",
              "    <tr>\n",
              "      <th>1</th>\n",
              "      <td>Passat</td>\n",
              "      <td>Motor Diesel</td>\n",
              "      <td>1991</td>\n",
              "      <td>5712.0</td>\n",
              "      <td>False</td>\n",
              "      <td>['Central multimídia', 'Teto panorâmico', 'Fre...</td>\n",
              "      <td>106161.94</td>\n",
              "    </tr>\n",
              "    <tr>\n",
              "      <th>2</th>\n",
              "      <td>Crossfox</td>\n",
              "      <td>Motor Diesel V8</td>\n",
              "      <td>1990</td>\n",
              "      <td>37123.0</td>\n",
              "      <td>False</td>\n",
              "      <td>['Piloto automático', 'Controle de estabilidad...</td>\n",
              "      <td>72832.16</td>\n",
              "    </tr>\n",
              "    <tr>\n",
              "      <th>3</th>\n",
              "      <td>DS5</td>\n",
              "      <td>Motor 2.4 Turbo</td>\n",
              "      <td>2019</td>\n",
              "      <td>NaN</td>\n",
              "      <td>True</td>\n",
              "      <td>['Travas elétricas', '4 X 4', 'Vidros elétrico...</td>\n",
              "      <td>124549.07</td>\n",
              "    </tr>\n",
              "    <tr>\n",
              "      <th>4</th>\n",
              "      <td>Aston Martin DB4</td>\n",
              "      <td>Motor 2.4 Turbo</td>\n",
              "      <td>2006</td>\n",
              "      <td>25757.0</td>\n",
              "      <td>False</td>\n",
              "      <td>['Rodas de liga', '4 X 4', 'Central multimídia...</td>\n",
              "      <td>92612.10</td>\n",
              "    </tr>\n",
              "    <tr>\n",
              "      <th>...</th>\n",
              "      <td>...</td>\n",
              "      <td>...</td>\n",
              "      <td>...</td>\n",
              "      <td>...</td>\n",
              "      <td>...</td>\n",
              "      <td>...</td>\n",
              "      <td>...</td>\n",
              "    </tr>\n",
              "    <tr>\n",
              "      <th>253</th>\n",
              "      <td>Phantom 2013</td>\n",
              "      <td>Motor V8</td>\n",
              "      <td>2014</td>\n",
              "      <td>27505.0</td>\n",
              "      <td>False</td>\n",
              "      <td>['Controle de estabilidade', 'Piloto automátic...</td>\n",
              "      <td>51759.58</td>\n",
              "    </tr>\n",
              "    <tr>\n",
              "      <th>254</th>\n",
              "      <td>Cadillac Ciel concept</td>\n",
              "      <td>Motor V8</td>\n",
              "      <td>1991</td>\n",
              "      <td>29981.0</td>\n",
              "      <td>False</td>\n",
              "      <td>['Bancos de couro', 'Painel digital', 'Sensor ...</td>\n",
              "      <td>51667.06</td>\n",
              "    </tr>\n",
              "    <tr>\n",
              "      <th>255</th>\n",
              "      <td>Classe GLK</td>\n",
              "      <td>Motor 5.0 V8 Bi-Turbo</td>\n",
              "      <td>2002</td>\n",
              "      <td>52637.0</td>\n",
              "      <td>False</td>\n",
              "      <td>['Rodas de liga', 'Controle de tração', 'Câmbi...</td>\n",
              "      <td>68934.03</td>\n",
              "    </tr>\n",
              "    <tr>\n",
              "      <th>256</th>\n",
              "      <td>Aston Martin DB5</td>\n",
              "      <td>Motor Diesel</td>\n",
              "      <td>1996</td>\n",
              "      <td>7685.0</td>\n",
              "      <td>False</td>\n",
              "      <td>['Ar condicionado', '4 X 4', 'Câmbio automátic...</td>\n",
              "      <td>122110.90</td>\n",
              "    </tr>\n",
              "    <tr>\n",
              "      <th>257</th>\n",
              "      <td>Macan</td>\n",
              "      <td>Motor Diesel V6</td>\n",
              "      <td>1992</td>\n",
              "      <td>50188.0</td>\n",
              "      <td>False</td>\n",
              "      <td>['Central multimídia', 'Teto panorâmico', 'Vid...</td>\n",
              "      <td>90381.47</td>\n",
              "    </tr>\n",
              "  </tbody>\n",
              "</table>\n",
              "<p>258 rows × 7 columns</p>\n",
              "</div>"
            ],
            "text/plain": [
              "                      Nome                  Motor   Ano  Quilometragem  \\\n",
              "0            Jetta Variant        Motor 4.0 Turbo  2003        44410.0   \n",
              "1                   Passat           Motor Diesel  1991         5712.0   \n",
              "2                 Crossfox        Motor Diesel V8  1990        37123.0   \n",
              "3                      DS5        Motor 2.4 Turbo  2019            NaN   \n",
              "4         Aston Martin DB4        Motor 2.4 Turbo  2006        25757.0   \n",
              "..                     ...                    ...   ...            ...   \n",
              "253           Phantom 2013               Motor V8  2014        27505.0   \n",
              "254  Cadillac Ciel concept               Motor V8  1991        29981.0   \n",
              "255             Classe GLK  Motor 5.0 V8 Bi-Turbo  2002        52637.0   \n",
              "256       Aston Martin DB5           Motor Diesel  1996         7685.0   \n",
              "257                  Macan        Motor Diesel V6  1992        50188.0   \n",
              "\n",
              "     Zero_km                                         Acessórios      Valor  \n",
              "0      False  ['Rodas de liga', 'Travas elétricas', 'Piloto ...   88078.64  \n",
              "1      False  ['Central multimídia', 'Teto panorâmico', 'Fre...  106161.94  \n",
              "2      False  ['Piloto automático', 'Controle de estabilidad...   72832.16  \n",
              "3       True  ['Travas elétricas', '4 X 4', 'Vidros elétrico...  124549.07  \n",
              "4      False  ['Rodas de liga', '4 X 4', 'Central multimídia...   92612.10  \n",
              "..       ...                                                ...        ...  \n",
              "253    False  ['Controle de estabilidade', 'Piloto automátic...   51759.58  \n",
              "254    False  ['Bancos de couro', 'Painel digital', 'Sensor ...   51667.06  \n",
              "255    False  ['Rodas de liga', 'Controle de tração', 'Câmbi...   68934.03  \n",
              "256    False  ['Ar condicionado', '4 X 4', 'Câmbio automátic...  122110.90  \n",
              "257    False  ['Central multimídia', 'Teto panorâmico', 'Vid...   90381.47  \n",
              "\n",
              "[258 rows x 7 columns]"
            ]
          },
          "metadata": {
            "tags": []
          },
          "execution_count": 10
        }
      ]
    },
    {
      "cell_type": "code",
      "metadata": {
        "colab": {
          "base_uri": "https://localhost:8080/"
        },
        "id": "wBvB4AVUc0Ab",
        "outputId": "9131b01c-5fe2-4d76-dff4-98d98e0527f4"
      },
      "source": [
        "# Para visualizar os tipos de dados presentes no seu dataframe podemos utilizar o dtypes\n",
        "\n",
        "db.dtypes"
      ],
      "execution_count": 11,
      "outputs": [
        {
          "output_type": "execute_result",
          "data": {
            "text/plain": [
              "Nome              object\n",
              "Motor             object\n",
              "Ano                int64\n",
              "Quilometragem    float64\n",
              "Zero_km             bool\n",
              "Acessórios        object\n",
              "Valor            float64\n",
              "dtype: object"
            ]
          },
          "metadata": {
            "tags": []
          },
          "execution_count": 11
        }
      ]
    },
    {
      "cell_type": "code",
      "metadata": {
        "colab": {
          "base_uri": "https://localhost:8080/"
        },
        "id": "LD0E9YsUdCwP",
        "outputId": "d3b8b1a6-e9ec-4920-e355-8c096d0a5457"
      },
      "source": [
        "# Também podemos utilizar o info para ver mais ifnromações sobre o dataframe\n",
        "\n",
        "db.info()"
      ],
      "execution_count": 12,
      "outputs": [
        {
          "output_type": "stream",
          "text": [
            "<class 'pandas.core.frame.DataFrame'>\n",
            "RangeIndex: 258 entries, 0 to 257\n",
            "Data columns (total 7 columns):\n",
            " #   Column         Non-Null Count  Dtype  \n",
            "---  ------         --------------  -----  \n",
            " 0   Nome           258 non-null    object \n",
            " 1   Motor          258 non-null    object \n",
            " 2   Ano            258 non-null    int64  \n",
            " 3   Quilometragem  197 non-null    float64\n",
            " 4   Zero_km        258 non-null    bool   \n",
            " 5   Acessórios     258 non-null    object \n",
            " 6   Valor          258 non-null    float64\n",
            "dtypes: bool(1), float64(2), int64(1), object(3)\n",
            "memory usage: 12.5+ KB\n"
          ],
          "name": "stdout"
        }
      ]
    },
    {
      "cell_type": "code",
      "metadata": {
        "colab": {
          "base_uri": "https://localhost:8080/",
          "height": 297
        },
        "id": "gIeS2MXhfN42",
        "outputId": "c5dce239-bd11-4961-ae70-a97c2e44231e"
      },
      "source": [
        "# O describe pode mostrar várias métricas estatisticas para auxiliar na exploração. \n",
        "# Abaixo ele mostra apenas 3 colunas das 7. Isso acontece porque apenas 3 colunas apresentam valores numéricos, como INT e Float\n",
        "# Valores do tipo Boleano (bool) e String (objetct) não entram nas métricas.\n",
        "\n",
        "db.describe()"
      ],
      "execution_count": 13,
      "outputs": [
        {
          "output_type": "execute_result",
          "data": {
            "text/html": [
              "<div>\n",
              "<style scoped>\n",
              "    .dataframe tbody tr th:only-of-type {\n",
              "        vertical-align: middle;\n",
              "    }\n",
              "\n",
              "    .dataframe tbody tr th {\n",
              "        vertical-align: top;\n",
              "    }\n",
              "\n",
              "    .dataframe thead th {\n",
              "        text-align: right;\n",
              "    }\n",
              "</style>\n",
              "<table border=\"1\" class=\"dataframe\">\n",
              "  <thead>\n",
              "    <tr style=\"text-align: right;\">\n",
              "      <th></th>\n",
              "      <th>Ano</th>\n",
              "      <th>Quilometragem</th>\n",
              "      <th>Valor</th>\n",
              "    </tr>\n",
              "  </thead>\n",
              "  <tbody>\n",
              "    <tr>\n",
              "      <th>count</th>\n",
              "      <td>258.000000</td>\n",
              "      <td>197.000000</td>\n",
              "      <td>258.000000</td>\n",
              "    </tr>\n",
              "    <tr>\n",
              "      <th>mean</th>\n",
              "      <td>2007.511628</td>\n",
              "      <td>58278.421320</td>\n",
              "      <td>98960.513101</td>\n",
              "    </tr>\n",
              "    <tr>\n",
              "      <th>std</th>\n",
              "      <td>9.725906</td>\n",
              "      <td>35836.733259</td>\n",
              "      <td>29811.932305</td>\n",
              "    </tr>\n",
              "    <tr>\n",
              "      <th>min</th>\n",
              "      <td>1990.000000</td>\n",
              "      <td>107.000000</td>\n",
              "      <td>50742.100000</td>\n",
              "    </tr>\n",
              "    <tr>\n",
              "      <th>25%</th>\n",
              "      <td>1999.000000</td>\n",
              "      <td>27505.000000</td>\n",
              "      <td>70743.512500</td>\n",
              "    </tr>\n",
              "    <tr>\n",
              "      <th>50%</th>\n",
              "      <td>2008.000000</td>\n",
              "      <td>55083.000000</td>\n",
              "      <td>97724.380000</td>\n",
              "    </tr>\n",
              "    <tr>\n",
              "      <th>75%</th>\n",
              "      <td>2018.000000</td>\n",
              "      <td>90495.000000</td>\n",
              "      <td>124633.302500</td>\n",
              "    </tr>\n",
              "    <tr>\n",
              "      <th>max</th>\n",
              "      <td>2019.000000</td>\n",
              "      <td>119945.000000</td>\n",
              "      <td>149489.920000</td>\n",
              "    </tr>\n",
              "  </tbody>\n",
              "</table>\n",
              "</div>"
            ],
            "text/plain": [
              "               Ano  Quilometragem          Valor\n",
              "count   258.000000     197.000000     258.000000\n",
              "mean   2007.511628   58278.421320   98960.513101\n",
              "std       9.725906   35836.733259   29811.932305\n",
              "min    1990.000000     107.000000   50742.100000\n",
              "25%    1999.000000   27505.000000   70743.512500\n",
              "50%    2008.000000   55083.000000   97724.380000\n",
              "75%    2018.000000   90495.000000  124633.302500\n",
              "max    2019.000000  119945.000000  149489.920000"
            ]
          },
          "metadata": {
            "tags": []
          },
          "execution_count": 13
        }
      ]
    },
    {
      "cell_type": "code",
      "metadata": {
        "colab": {
          "base_uri": "https://localhost:8080/"
        },
        "id": "AQ2NIri7i4BO",
        "outputId": "93ae4459-3be7-447f-91d6-929c0c3794eb"
      },
      "source": [
        "# podemos utilizar a Built-in Function \"type\" para descobrir o tipo de dado.\n",
        "\n",
        "type(db)"
      ],
      "execution_count": 14,
      "outputs": [
        {
          "output_type": "execute_result",
          "data": {
            "text/plain": [
              "pandas.core.frame.DataFrame"
            ]
          },
          "metadata": {
            "tags": []
          },
          "execution_count": 14
        }
      ]
    },
    {
      "cell_type": "markdown",
      "metadata": {
        "id": "KIZBV-nGhH3b"
      },
      "source": [
        "# Tuplas\n",
        "\n",
        "### Semelhante às listas, as Tuplas servem para guardar uma coleção de itens. A principal diferença é que as Tuplas são imutáveis. \n",
        "\n",
        "#### Para definir uma Tupla utilizamos () ao invés de [].\n",
        "\n",
        "#### lista = ['a', 'b', 'c']\n",
        "#### tupla = ('a', 'b', 'c')\n"
      ]
    },
    {
      "cell_type": "code",
      "metadata": {
        "colab": {
          "base_uri": "https://localhost:8080/"
        },
        "id": "4IX9VIahfTsD",
        "outputId": "c7f3bce7-503c-4f28-d891-2c0e14933a03"
      },
      "source": [
        "# Uma das forma de definir uma tupla\n",
        "\n",
        "tp = ('a', 'b', 'c')\n",
        "tp"
      ],
      "execution_count": 15,
      "outputs": [
        {
          "output_type": "execute_result",
          "data": {
            "text/plain": [
              "('a', 'b', 'c')"
            ]
          },
          "metadata": {
            "tags": []
          },
          "execution_count": 15
        }
      ]
    },
    {
      "cell_type": "code",
      "metadata": {
        "colab": {
          "base_uri": "https://localhost:8080/"
        },
        "id": "KjqlCBvZjckJ",
        "outputId": "76f05f5b-5d5a-42fb-c0e7-aa8447ae9d42"
      },
      "source": [
        "type(tp)"
      ],
      "execution_count": 16,
      "outputs": [
        {
          "output_type": "execute_result",
          "data": {
            "text/plain": [
              "tuple"
            ]
          },
          "metadata": {
            "tags": []
          },
          "execution_count": 16
        }
      ]
    },
    {
      "cell_type": "code",
      "metadata": {
        "colab": {
          "base_uri": "https://localhost:8080/"
        },
        "id": "MXxzccREjno9",
        "outputId": "e4176cc0-7906-4bb1-9bab-450ce23a275a"
      },
      "source": [
        "# As tuplas, assim como as listas, armazenam tipos variados de dados.\n",
        "# Vamos criar uma tupla com duas variáveis que possuem tipos diferentes\n",
        "\n",
        "nome = 'Jose'\n",
        "idade = 35\n",
        "(nome, idade)"
      ],
      "execution_count": 17,
      "outputs": [
        {
          "output_type": "execute_result",
          "data": {
            "text/plain": [
              "('Jose', 35)"
            ]
          },
          "metadata": {
            "tags": []
          },
          "execution_count": 17
        }
      ]
    },
    {
      "cell_type": "code",
      "metadata": {
        "colab": {
          "base_uri": "https://localhost:8080/"
        },
        "id": "hZKBRNJJj8vz",
        "outputId": "42fda189-9def-4ff1-99f8-b36b04a3c1cd"
      },
      "source": [
        "#Podemos utilizar Built-in Functions do Python para criar uma tupla, como mostra o exemplo abaixo:\n",
        "\n",
        "nomes_Pessoas = tuple(['Maria', 'Jonas', 'Kleber', 'Ana'])\n",
        "nomes_Pessoas"
      ],
      "execution_count": 18,
      "outputs": [
        {
          "output_type": "execute_result",
          "data": {
            "text/plain": [
              "('Maria', 'Jonas', 'Kleber', 'Ana')"
            ]
          },
          "metadata": {
            "tags": []
          },
          "execution_count": 18
        }
      ]
    },
    {
      "cell_type": "markdown",
      "metadata": {
        "id": "L__4gZidk3jI"
      },
      "source": [
        "#### Mais informações sobre Built-in Functions: https://docs.python.org/3/library/functions.html"
      ]
    },
    {
      "cell_type": "markdown",
      "metadata": {
        "id": "P9EAIcV1sp05"
      },
      "source": [
        "# Seleção em Tuplas"
      ]
    },
    {
      "cell_type": "code",
      "metadata": {
        "colab": {
          "base_uri": "https://localhost:8080/",
          "height": 0
        },
        "id": "GNYj58PIk93r",
        "outputId": "8d4c9f66-4fc9-4fb2-ec02-edb18809195f"
      },
      "source": [
        "# Para selecionar os dados dentro da Tupla, basta selecionar o índice como é feito em uma lista.\n",
        "\n",
        "nomes_Pessoas[0]"
      ],
      "execution_count": 19,
      "outputs": [
        {
          "output_type": "execute_result",
          "data": {
            "application/vnd.google.colaboratory.intrinsic+json": {
              "type": "string"
            },
            "text/plain": [
              "'Maria'"
            ]
          },
          "metadata": {
            "tags": []
          },
          "execution_count": 19
        }
      ]
    },
    {
      "cell_type": "code",
      "metadata": {
        "colab": {
          "base_uri": "https://localhost:8080/",
          "height": 0
        },
        "id": "PMIEo9Dzs64O",
        "outputId": "ce766027-91d1-4600-fbc6-df18797803e9"
      },
      "source": [
        "# Selecionando último item da Tupla\n",
        "\n",
        "nomes_Pessoas[-1]"
      ],
      "execution_count": 20,
      "outputs": [
        {
          "output_type": "execute_result",
          "data": {
            "application/vnd.google.colaboratory.intrinsic+json": {
              "type": "string"
            },
            "text/plain": [
              "'Ana'"
            ]
          },
          "metadata": {
            "tags": []
          },
          "execution_count": 20
        }
      ]
    },
    {
      "cell_type": "code",
      "metadata": {
        "colab": {
          "base_uri": "https://localhost:8080/"
        },
        "id": "Io795qB1tATW",
        "outputId": "225d59bc-9f15-4f97-8376-120eb6729189"
      },
      "source": [
        "# Fazendo o fatiamento de uma Tupla.\n",
        "\n",
        "# Vamos selecionar os dois primeiros valores, a partir do índice 0. Vale lembrar que o último valor não será incluído.\n",
        "\n",
        "nomes_Pessoas[0:2]"
      ],
      "execution_count": 21,
      "outputs": [
        {
          "output_type": "execute_result",
          "data": {
            "text/plain": [
              "('Maria', 'Jonas')"
            ]
          },
          "metadata": {
            "tags": []
          },
          "execution_count": 21
        }
      ]
    },
    {
      "cell_type": "code",
      "metadata": {
        "id": "f_u1RG-btMfR"
      },
      "source": [
        "nomes_Pessoas = ('Maria', 'Jonas', 'Kleber', 'Ana',('Isabella', 'Mateus', 'Gisele'))"
      ],
      "execution_count": 22,
      "outputs": []
    },
    {
      "cell_type": "code",
      "metadata": {
        "colab": {
          "base_uri": "https://localhost:8080/"
        },
        "id": "x9cNCuKbtxd8",
        "outputId": "637f3dc7-c8af-4015-de58-ad4e1659ec34"
      },
      "source": [
        "# Agora vamos selecionar os dados que estão dentro da Tupla que está dentro da Tupla.\n",
        "\n",
        "nomes_Pessoas[4]"
      ],
      "execution_count": 23,
      "outputs": [
        {
          "output_type": "execute_result",
          "data": {
            "text/plain": [
              "('Isabella', 'Mateus', 'Gisele')"
            ]
          },
          "metadata": {
            "tags": []
          },
          "execution_count": 23
        }
      ]
    },
    {
      "cell_type": "code",
      "metadata": {
        "colab": {
          "base_uri": "https://localhost:8080/",
          "height": 0
        },
        "id": "mEm1khN9uCIf",
        "outputId": "4988753a-d679-490d-f25b-2ade617e041a"
      },
      "source": [
        "# Para acessar uma valor específico da Tupla interna, devemos realizar o seguinte fatiamento:\n",
        "\n",
        "# Vamos selecionar o nome \"Isabella\" que está presente no índice 0 da Tupla interna.\n",
        "\n",
        "nomes_Pessoas[4][0] "
      ],
      "execution_count": 24,
      "outputs": [
        {
          "output_type": "execute_result",
          "data": {
            "application/vnd.google.colaboratory.intrinsic+json": {
              "type": "string"
            },
            "text/plain": [
              "'Isabella'"
            ]
          },
          "metadata": {
            "tags": []
          },
          "execution_count": 24
        }
      ]
    },
    {
      "cell_type": "code",
      "metadata": {
        "colab": {
          "base_uri": "https://localhost:8080/",
          "height": 0
        },
        "id": "rv5g8r17uNU2",
        "outputId": "d2ebf613-237d-47e6-9898-cc36d468b6f4"
      },
      "source": [
        "# Agora vamos selecionar o nome \"Gisele\"\n",
        "\n",
        "nomes_Pessoas[4][2]"
      ],
      "execution_count": 25,
      "outputs": [
        {
          "output_type": "execute_result",
          "data": {
            "application/vnd.google.colaboratory.intrinsic+json": {
              "type": "string"
            },
            "text/plain": [
              "'Gisele'"
            ]
          },
          "metadata": {
            "tags": []
          },
          "execution_count": 25
        }
      ]
    },
    {
      "cell_type": "markdown",
      "metadata": {
        "id": "r_ISk3lKufcW"
      },
      "source": [
        "# Iterações em Tuplas"
      ]
    },
    {
      "cell_type": "code",
      "metadata": {
        "id": "fpFaOa2rueKG"
      },
      "source": [
        "# Vamos reapoveitar os dados anteriores.\n",
        "\n",
        "nomes_Pessoas = ('Maria', 'Jonas', 'Kleber', 'Ana')"
      ],
      "execution_count": 26,
      "outputs": []
    },
    {
      "cell_type": "code",
      "metadata": {
        "colab": {
          "base_uri": "https://localhost:8080/"
        },
        "id": "0gw43QIzu4AX",
        "outputId": "d762bced-8e17-478c-be61-6d1bde258619"
      },
      "source": [
        "# Vamos fazer varrer a nossa tupla utilizando o for\n",
        "\n",
        "for i in nomes_Pessoas:\n",
        "  print(i)"
      ],
      "execution_count": 27,
      "outputs": [
        {
          "output_type": "stream",
          "text": [
            "Maria\n",
            "Jonas\n",
            "Kleber\n",
            "Ana\n"
          ],
          "name": "stdout"
        }
      ]
    },
    {
      "cell_type": "markdown",
      "metadata": {
        "id": "-BaduxThv7lD"
      },
      "source": [
        "# Desempacotamento de uma Tupla"
      ]
    },
    {
      "cell_type": "code",
      "metadata": {
        "id": "amqQmXtfvfM-"
      },
      "source": [
        "# Podemos pegar cada valor presente em uma tupla e associar a uma variável específica.\n",
        "\n",
        "nome_1, nome_2, nome_3, nome_4 = nomes_Pessoas"
      ],
      "execution_count": 28,
      "outputs": []
    },
    {
      "cell_type": "code",
      "metadata": {
        "colab": {
          "base_uri": "https://localhost:8080/",
          "height": 0
        },
        "id": "hdou-_aGwaet",
        "outputId": "2914ab4d-2fae-47fe-a07b-d24a66454b1e"
      },
      "source": [
        "nome_1"
      ],
      "execution_count": 29,
      "outputs": [
        {
          "output_type": "execute_result",
          "data": {
            "application/vnd.google.colaboratory.intrinsic+json": {
              "type": "string"
            },
            "text/plain": [
              "'Maria'"
            ]
          },
          "metadata": {
            "tags": []
          },
          "execution_count": 29
        }
      ]
    },
    {
      "cell_type": "code",
      "metadata": {
        "colab": {
          "base_uri": "https://localhost:8080/",
          "height": 0
        },
        "id": "u7WwPuB1wbyw",
        "outputId": "a8876945-2215-43aa-b59e-8dd080df6326"
      },
      "source": [
        "nome_2"
      ],
      "execution_count": 30,
      "outputs": [
        {
          "output_type": "execute_result",
          "data": {
            "application/vnd.google.colaboratory.intrinsic+json": {
              "type": "string"
            },
            "text/plain": [
              "'Jonas'"
            ]
          },
          "metadata": {
            "tags": []
          },
          "execution_count": 30
        }
      ]
    },
    {
      "cell_type": "code",
      "metadata": {
        "colab": {
          "base_uri": "https://localhost:8080/",
          "height": 0
        },
        "id": "cQ9iy68PwczS",
        "outputId": "a1bb2024-754e-4c01-ede9-f24fc8597ffb"
      },
      "source": [
        "nome_3"
      ],
      "execution_count": 31,
      "outputs": [
        {
          "output_type": "execute_result",
          "data": {
            "application/vnd.google.colaboratory.intrinsic+json": {
              "type": "string"
            },
            "text/plain": [
              "'Kleber'"
            ]
          },
          "metadata": {
            "tags": []
          },
          "execution_count": 31
        }
      ]
    },
    {
      "cell_type": "code",
      "metadata": {
        "colab": {
          "base_uri": "https://localhost:8080/",
          "height": 0
        },
        "id": "ml5m9p_Ywe8H",
        "outputId": "7a1741a8-52b0-454f-bd95-75096af9658b"
      },
      "source": [
        "nome_4"
      ],
      "execution_count": 32,
      "outputs": [
        {
          "output_type": "execute_result",
          "data": {
            "application/vnd.google.colaboratory.intrinsic+json": {
              "type": "string"
            },
            "text/plain": [
              "'Ana'"
            ]
          },
          "metadata": {
            "tags": []
          },
          "execution_count": 32
        }
      ]
    },
    {
      "cell_type": "code",
      "metadata": {
        "colab": {
          "base_uri": "https://localhost:8080/"
        },
        "id": "vvjSwuxBwfs5",
        "outputId": "8b7bf9fd-5e9c-44bb-977b-1bce1b9ef75b"
      },
      "source": [
        "#Caso você queira transferir os valores de uma tupla para uma lista, é possível utilizar o for e associar cada valor a uma nova lista\n",
        "\n",
        "nomes_Lista = []\n",
        "\n",
        "for i in nomes_Pessoas:\n",
        "  nomes_Lista.append(i)\n",
        "nomes_Lista"
      ],
      "execution_count": 33,
      "outputs": [
        {
          "output_type": "execute_result",
          "data": {
            "text/plain": [
              "['Maria', 'Jonas', 'Kleber', 'Ana']"
            ]
          },
          "metadata": {
            "tags": []
          },
          "execution_count": 33
        }
      ]
    },
    {
      "cell_type": "code",
      "metadata": {
        "colab": {
          "base_uri": "https://localhost:8080/"
        },
        "id": "BTQiu90Dwu15",
        "outputId": "72ac1735-94a3-442e-8265-35d23407ddc3"
      },
      "source": [
        "# Você também pode criar atribuições de elementos específicos, ignorando aqueles que não são necessários.\n",
        "\n",
        "nomes_Pessoas"
      ],
      "execution_count": 34,
      "outputs": [
        {
          "output_type": "execute_result",
          "data": {
            "text/plain": [
              "('Maria', 'Jonas', 'Kleber', 'Ana')"
            ]
          },
          "metadata": {
            "tags": []
          },
          "execution_count": 34
        }
      ]
    },
    {
      "cell_type": "code",
      "metadata": {
        "id": "zgG1A8Yrx0F4"
      },
      "source": [
        "# Vamos selecionar apenas o \"jonas\" e a \"Ana\"\n",
        "\n",
        "_, A, _, B = nomes_Pessoas # Quando utilizei o underline/undersocore eu ignorei os valores correspondentes dentro da Tupla"
      ],
      "execution_count": 35,
      "outputs": []
    },
    {
      "cell_type": "code",
      "metadata": {
        "colab": {
          "base_uri": "https://localhost:8080/",
          "height": 0
        },
        "id": "35U8pzLAyANx",
        "outputId": "04f80dc5-269a-4372-df61-5fe69e697b9b"
      },
      "source": [
        "A"
      ],
      "execution_count": 36,
      "outputs": [
        {
          "output_type": "execute_result",
          "data": {
            "application/vnd.google.colaboratory.intrinsic+json": {
              "type": "string"
            },
            "text/plain": [
              "'Jonas'"
            ]
          },
          "metadata": {
            "tags": []
          },
          "execution_count": 36
        }
      ]
    },
    {
      "cell_type": "code",
      "metadata": {
        "colab": {
          "base_uri": "https://localhost:8080/",
          "height": 0
        },
        "id": "JwoTNTD5yBHw",
        "outputId": "ea4c52ec-96df-4b8b-9179-1979f973bb6b"
      },
      "source": [
        "B"
      ],
      "execution_count": 37,
      "outputs": [
        {
          "output_type": "execute_result",
          "data": {
            "application/vnd.google.colaboratory.intrinsic+json": {
              "type": "string"
            },
            "text/plain": [
              "'Ana'"
            ]
          },
          "metadata": {
            "tags": []
          },
          "execution_count": 37
        }
      ]
    },
    {
      "cell_type": "code",
      "metadata": {
        "id": "rsi4WxVgyCH-"
      },
      "source": [
        "# Também podemos passar o valor correspondente ao índice\n",
        "\n",
        "k = nomes_Pessoas[2]"
      ],
      "execution_count": 38,
      "outputs": []
    },
    {
      "cell_type": "code",
      "metadata": {
        "colab": {
          "base_uri": "https://localhost:8080/",
          "height": 0
        },
        "id": "C6S0SolIysOv",
        "outputId": "cd28b827-217a-49b6-fd35-a8a5d13b1b59"
      },
      "source": [
        "k"
      ],
      "execution_count": 39,
      "outputs": [
        {
          "output_type": "execute_result",
          "data": {
            "application/vnd.google.colaboratory.intrinsic+json": {
              "type": "string"
            },
            "text/plain": [
              "'Kleber'"
            ]
          },
          "metadata": {
            "tags": []
          },
          "execution_count": 39
        }
      ]
    },
    {
      "cell_type": "code",
      "metadata": {
        "id": "26eSShTgzcDn"
      },
      "source": [
        "# Para ignorar uma sequência de valores, podemos utilizar o *_\n",
        "\n",
        "_, A, *_ = nomes_Pessoas"
      ],
      "execution_count": 40,
      "outputs": []
    },
    {
      "cell_type": "code",
      "metadata": {
        "colab": {
          "base_uri": "https://localhost:8080/",
          "height": 0
        },
        "id": "fVW-A-4Czlyr",
        "outputId": "5da769c2-93fe-4d2f-bf23-b3bf0285a7b2"
      },
      "source": [
        "A"
      ],
      "execution_count": 41,
      "outputs": [
        {
          "output_type": "execute_result",
          "data": {
            "application/vnd.google.colaboratory.intrinsic+json": {
              "type": "string"
            },
            "text/plain": [
              "'Jonas'"
            ]
          },
          "metadata": {
            "tags": []
          },
          "execution_count": 41
        }
      ]
    },
    {
      "cell_type": "markdown",
      "metadata": {
        "id": "w5H7DyZuzDOc"
      },
      "source": [
        "# zip()\n",
        "\n",
        "### A função zip retorna uma lista de tuplas"
      ]
    },
    {
      "cell_type": "code",
      "metadata": {
        "colab": {
          "base_uri": "https://localhost:8080/"
        },
        "id": "E8awZDZWys-b",
        "outputId": "1a22d7ca-b188-4903-de46-2a99b64b4488"
      },
      "source": [
        "# Vamos criar duas lisas, uma lista de nomes e uma lista de idade.\n",
        "\n",
        "nomes = ['Maria', 'Jonas', 'Kleber', 'Ana']\n",
        "nomes"
      ],
      "execution_count": 42,
      "outputs": [
        {
          "output_type": "execute_result",
          "data": {
            "text/plain": [
              "['Maria', 'Jonas', 'Kleber', 'Ana']"
            ]
          },
          "metadata": {
            "tags": []
          },
          "execution_count": 42
        }
      ]
    },
    {
      "cell_type": "code",
      "metadata": {
        "colab": {
          "base_uri": "https://localhost:8080/"
        },
        "id": "wp3T5oeR1ao-",
        "outputId": "e8c01f01-8bb1-41c2-d1e5-c074c6aea274"
      },
      "source": [
        "idades = [25, 28, 30, 19]\n",
        "idades"
      ],
      "execution_count": 43,
      "outputs": [
        {
          "output_type": "execute_result",
          "data": {
            "text/plain": [
              "[25, 28, 30, 19]"
            ]
          },
          "metadata": {
            "tags": []
          },
          "execution_count": 43
        }
      ]
    },
    {
      "cell_type": "code",
      "metadata": {
        "colab": {
          "base_uri": "https://localhost:8080/"
        },
        "id": "ZivmyJ_z1eTS",
        "outputId": "1fcbc9aa-d11b-4ceb-9a8e-677ffc143906"
      },
      "source": [
        "# Vamos utilizar o zip para criar um iterador\n",
        "\n",
        "zip(nomes, idades)"
      ],
      "execution_count": 44,
      "outputs": [
        {
          "output_type": "execute_result",
          "data": {
            "text/plain": [
              "<zip at 0x7f2cc3a09500>"
            ]
          },
          "metadata": {
            "tags": []
          },
          "execution_count": 44
        }
      ]
    },
    {
      "cell_type": "code",
      "metadata": {
        "colab": {
          "base_uri": "https://localhost:8080/"
        },
        "id": "XMj71jjl1mR3",
        "outputId": "17cf1000-e7c2-4ace-bb6a-ef6bfec22ebf"
      },
      "source": [
        "# Agora vamos utilizar a Built-in Function list.\n",
        "# Teremos como retorno uma lista com os iteradores.\n",
        "\n",
        "# O que aconteceu? O zip associou o primeiro item da lista nomes com o primeiro item da lista idades, e foi repetindo esse mesmo padrão.\n",
        "\n",
        "list(zip(nomes, idades))"
      ],
      "execution_count": 45,
      "outputs": [
        {
          "output_type": "execute_result",
          "data": {
            "text/plain": [
              "[('Maria', 25), ('Jonas', 28), ('Kleber', 30), ('Ana', 19)]"
            ]
          },
          "metadata": {
            "tags": []
          },
          "execution_count": 45
        }
      ]
    },
    {
      "cell_type": "code",
      "metadata": {
        "colab": {
          "base_uri": "https://localhost:8080/"
        },
        "id": "nugEeYQs1pfF",
        "outputId": "644ff30f-e423-4470-ae82-318c6eed3b6c"
      },
      "source": [
        "# Agora podemos iterar o nome e a idade da pessoa ao mesmo tempo\n",
        "\n",
        "for i in zip(nomes, idades):\n",
        "  print(i)"
      ],
      "execution_count": 46,
      "outputs": [
        {
          "output_type": "stream",
          "text": [
            "('Maria', 25)\n",
            "('Jonas', 28)\n",
            "('Kleber', 30)\n",
            "('Ana', 19)\n"
          ],
          "name": "stdout"
        }
      ]
    },
    {
      "cell_type": "code",
      "metadata": {
        "colab": {
          "base_uri": "https://localhost:8080/",
          "height": 214
        },
        "id": "lfDaQQE_30VL",
        "outputId": "1d0e9735-a10e-4c26-ca9b-deabc363ab20"
      },
      "source": [
        "# O formato acima não seria muito útil, pois não conseguimos explorar os valores de forma individual.\n",
        "# Veja o exemplo abaixo:\n",
        "\n",
        "for i in zip(nomes, idades):\n",
        "  if idades > 26:\n",
        "    print(i)"
      ],
      "execution_count": 47,
      "outputs": [
        {
          "output_type": "error",
          "ename": "TypeError",
          "evalue": "ignored",
          "traceback": [
            "\u001b[0;31m---------------------------------------------------------------------------\u001b[0m",
            "\u001b[0;31mTypeError\u001b[0m                                 Traceback (most recent call last)",
            "\u001b[0;32m<ipython-input-47-9a65a62c5e88>\u001b[0m in \u001b[0;36m<module>\u001b[0;34m()\u001b[0m\n\u001b[1;32m      3\u001b[0m \u001b[0;34m\u001b[0m\u001b[0m\n\u001b[1;32m      4\u001b[0m \u001b[0;32mfor\u001b[0m \u001b[0mi\u001b[0m \u001b[0;32min\u001b[0m \u001b[0mzip\u001b[0m\u001b[0;34m(\u001b[0m\u001b[0mnomes\u001b[0m\u001b[0;34m,\u001b[0m \u001b[0midades\u001b[0m\u001b[0;34m)\u001b[0m\u001b[0;34m:\u001b[0m\u001b[0;34m\u001b[0m\u001b[0;34m\u001b[0m\u001b[0m\n\u001b[0;32m----> 5\u001b[0;31m   \u001b[0;32mif\u001b[0m \u001b[0midades\u001b[0m \u001b[0;34m>\u001b[0m \u001b[0;36m26\u001b[0m\u001b[0;34m:\u001b[0m\u001b[0;34m\u001b[0m\u001b[0;34m\u001b[0m\u001b[0m\n\u001b[0m\u001b[1;32m      6\u001b[0m     \u001b[0mprint\u001b[0m\u001b[0;34m(\u001b[0m\u001b[0mi\u001b[0m\u001b[0;34m)\u001b[0m\u001b[0;34m\u001b[0m\u001b[0;34m\u001b[0m\u001b[0m\n",
            "\u001b[0;31mTypeError\u001b[0m: '>' not supported between instances of 'list' and 'int'"
          ]
        }
      ]
    },
    {
      "cell_type": "code",
      "metadata": {
        "colab": {
          "base_uri": "https://localhost:8080/"
        },
        "id": "JmVI1msk3Wm7",
        "outputId": "1aed2397-826d-41c1-fdd9-cecdea050171"
      },
      "source": [
        "# O mais indicado seria fazer um desempacotamento, assim podemos avaliar os dados individualmente\n",
        "\n",
        "for nomes, idades in zip(nomes, idades):\n",
        "  if idades > 26:\n",
        "    print(nomes, idades)"
      ],
      "execution_count": 48,
      "outputs": [
        {
          "output_type": "stream",
          "text": [
            "Jonas 28\n",
            "Kleber 30\n"
          ],
          "name": "stdout"
        }
      ]
    },
    {
      "cell_type": "markdown",
      "metadata": {
        "id": "bI6qcZZxURvI"
      },
      "source": [
        "# Dicionários\n",
        "\n",
        "#### As listas armazenam uma coleção de valores que podem ser acessados através de seus índices.\n",
        "\n",
        "#### Os dicionários também podem acessar uma coleção de valores, mas eles não trabalha com o conceito de índice, mas sim de chave (key) e valor (value)"
      ]
    },
    {
      "cell_type": "code",
      "metadata": {
        "colab": {
          "base_uri": "https://localhost:8080/"
        },
        "id": "jM6z4KpvUT1w",
        "outputId": "df7f3d8c-9f8a-4735-e797-b86d529d988b"
      },
      "source": [
        "# Vamos comparar os acessos de uma lista com o dicionário\n",
        "\n",
        "nomes = ['Ana', 'Gabi', 'Marcos']\n",
        "nomes"
      ],
      "execution_count": 55,
      "outputs": [
        {
          "output_type": "execute_result",
          "data": {
            "text/plain": [
              "['Ana', 'Gabi', 'Marcos']"
            ]
          },
          "metadata": {
            "tags": []
          },
          "execution_count": 55
        }
      ]
    },
    {
      "cell_type": "code",
      "metadata": {
        "colab": {
          "base_uri": "https://localhost:8080/"
        },
        "id": "26mCSkyuljxN",
        "outputId": "f48908e9-97c8-4bc3-a938-96848a23116b"
      },
      "source": [
        "idade = [19, 23, 25]\n",
        "idade"
      ],
      "execution_count": 56,
      "outputs": [
        {
          "output_type": "execute_result",
          "data": {
            "text/plain": [
              "[19, 23, 25]"
            ]
          },
          "metadata": {
            "tags": []
          },
          "execution_count": 56
        }
      ]
    },
    {
      "cell_type": "code",
      "metadata": {
        "colab": {
          "base_uri": "https://localhost:8080/"
        },
        "id": "dVUk4p8TnZGH",
        "outputId": "5df7e41a-f241-48eb-947d-ccffb57adced"
      },
      "source": [
        "nomes.index('Gabi') # o 'index' mostra qual é o índice do ítem selecionado"
      ],
      "execution_count": 60,
      "outputs": [
        {
          "output_type": "execute_result",
          "data": {
            "text/plain": [
              "1"
            ]
          },
          "metadata": {
            "tags": []
          },
          "execution_count": 60
        }
      ]
    },
    {
      "cell_type": "code",
      "metadata": {
        "colab": {
          "base_uri": "https://localhost:8080/"
        },
        "id": "JuhWHtsXnMKP",
        "outputId": "368786f5-e210-4cc5-eaeb-f2a3ffd0e178"
      },
      "source": [
        "# Com uma lista pequena fica fácil de descobrir o índice, mas no caso uma lista com muitos valores, ficaria difícil contar os índices.\n",
        "# Como as listas estão separadas, vamos descobrir a idade da 'Gabi' passando seu índice na lista de idade.\n",
        "\n",
        "idade[nomes.index('Gabi')]"
      ],
      "execution_count": 59,
      "outputs": [
        {
          "output_type": "execute_result",
          "data": {
            "text/plain": [
              "23"
            ]
          },
          "metadata": {
            "tags": []
          },
          "execution_count": 59
        }
      ]
    },
    {
      "cell_type": "code",
      "metadata": {
        "colab": {
          "base_uri": "https://localhost:8080/"
        },
        "id": "3wzR-CIJpqEE",
        "outputId": "6a3bec80-c311-43ee-d13e-c280048a3e05"
      },
      "source": [
        "# Agora vamos criar uma dicionário com os valores acima e vamos chama-lo de 'dicio'.\n",
        "\n",
        "dicio = {'Ana' : 19, 'Gabi' : 23, 'Marcos' : 25}\n",
        "dicio"
      ],
      "execution_count": 62,
      "outputs": [
        {
          "output_type": "execute_result",
          "data": {
            "text/plain": [
              "{'Ana': 19, 'Gabi': 23, 'Marcos': 25}"
            ]
          },
          "metadata": {
            "tags": []
          },
          "execution_count": 62
        }
      ]
    },
    {
      "cell_type": "code",
      "metadata": {
        "colab": {
          "base_uri": "https://localhost:8080/"
        },
        "id": "SUiYscXWqMju",
        "outputId": "dbc957fd-053a-47fa-ab38-671be5307a90"
      },
      "source": [
        "type(dicio)"
      ],
      "execution_count": 63,
      "outputs": [
        {
          "output_type": "execute_result",
          "data": {
            "text/plain": [
              "dict"
            ]
          },
          "metadata": {
            "tags": []
          },
          "execution_count": 63
        }
      ]
    },
    {
      "cell_type": "markdown",
      "metadata": {
        "id": "KpyUzDBUqWL0"
      },
      "source": [
        "# Criando um dicionário com o zip"
      ]
    },
    {
      "cell_type": "code",
      "metadata": {
        "colab": {
          "base_uri": "https://localhost:8080/"
        },
        "id": "ZDHNzLkWqSo5",
        "outputId": "86150eb5-1575-4e6f-8586-23af134c213d"
      },
      "source": [
        "# Podemos agrupar utilizando o zip\n",
        "\n",
        "dicio = dict(zip(nomes, idade))\n",
        "dicio"
      ],
      "execution_count": 88,
      "outputs": [
        {
          "output_type": "execute_result",
          "data": {
            "text/plain": [
              "{'Ana': 19, 'Gabi': 23, 'Marcos': 25}"
            ]
          },
          "metadata": {
            "tags": []
          },
          "execution_count": 88
        }
      ]
    },
    {
      "cell_type": "markdown",
      "metadata": {
        "id": "I6OsKNptrOhJ"
      },
      "source": [
        "# Operações com dicionários"
      ]
    },
    {
      "cell_type": "code",
      "metadata": {
        "colab": {
          "base_uri": "https://localhost:8080/"
        },
        "id": "rEhrb9pvqmfN",
        "outputId": "fe621aa1-eb43-43ff-9ae5-02f9ae69ae6a"
      },
      "source": [
        "dicio"
      ],
      "execution_count": 68,
      "outputs": [
        {
          "output_type": "execute_result",
          "data": {
            "text/plain": [
              "{'Ana': 19, 'Gabi': 23, 'Marcos': 25}"
            ]
          },
          "metadata": {
            "tags": []
          },
          "execution_count": 68
        }
      ]
    },
    {
      "cell_type": "markdown",
      "metadata": {
        "id": "ySmV6Ckwu8Ig"
      },
      "source": [
        "# [key]"
      ]
    },
    {
      "cell_type": "code",
      "metadata": {
        "colab": {
          "base_uri": "https://localhost:8080/"
        },
        "id": "-jbVhh0PrT0z",
        "outputId": "7f1412be-aa11-4911-fff6-046a01ebe1fc"
      },
      "source": [
        "# No dicionário acessamos valores através das chaves (key).\n",
        "\n",
        "dicio['Ana'] # Utilizando a chave 'Ana' eu vejo qual o seu valor correspondente, no caso a idade da Ana"
      ],
      "execution_count": 75,
      "outputs": [
        {
          "output_type": "execute_result",
          "data": {
            "text/plain": [
              "19"
            ]
          },
          "metadata": {
            "tags": []
          },
          "execution_count": 75
        }
      ]
    },
    {
      "cell_type": "markdown",
      "metadata": {
        "id": "A6Ws0TJ1uk9h"
      },
      "source": [
        "# in / not in"
      ]
    },
    {
      "cell_type": "code",
      "metadata": {
        "colab": {
          "base_uri": "https://localhost:8080/"
        },
        "id": "-BpDPHUDrYed",
        "outputId": "a7a0b9f4-cdcb-4512-e843-32f15bf43635"
      },
      "source": [
        "# Também podemos descobrir se um valor está presente dentro do dicionário pesquisando pela chave.\n",
        "# Se estiver presente, ele retorna True\n",
        "\n",
        "'Ana' in dicio"
      ],
      "execution_count": 76,
      "outputs": [
        {
          "output_type": "execute_result",
          "data": {
            "text/plain": [
              "True"
            ]
          },
          "metadata": {
            "tags": []
          },
          "execution_count": 76
        }
      ]
    },
    {
      "cell_type": "code",
      "metadata": {
        "colab": {
          "base_uri": "https://localhost:8080/"
        },
        "id": "5CcZg2WGs_Hj",
        "outputId": "b57ef291-07e9-41ee-9a62-a822cbbdf9fd"
      },
      "source": [
        "# Se não estiver presente, ele retorna False\n",
        "\n",
        "'Jose' in dicio"
      ],
      "execution_count": 78,
      "outputs": [
        {
          "output_type": "execute_result",
          "data": {
            "text/plain": [
              "False"
            ]
          },
          "metadata": {
            "tags": []
          },
          "execution_count": 78
        }
      ]
    },
    {
      "cell_type": "code",
      "metadata": {
        "colab": {
          "base_uri": "https://localhost:8080/"
        },
        "id": "TOe7jd3UtBKi",
        "outputId": "8a2f7a7c-b0d7-493a-af07-70b36b408ad9"
      },
      "source": [
        "# Também podemos verificar se o valor não está presente no dicionário.\n",
        "# Para isso podemos utilizar o not in\n",
        "\n",
        "'Jose' not in dicio"
      ],
      "execution_count": 79,
      "outputs": [
        {
          "output_type": "execute_result",
          "data": {
            "text/plain": [
              "True"
            ]
          },
          "metadata": {
            "tags": []
          },
          "execution_count": 79
        }
      ]
    },
    {
      "cell_type": "markdown",
      "metadata": {
        "id": "_XzanwzWuo5A"
      },
      "source": [
        "# len"
      ]
    },
    {
      "cell_type": "code",
      "metadata": {
        "colab": {
          "base_uri": "https://localhost:8080/"
        },
        "id": "s3oYk_CLtYw-",
        "outputId": "412a24ef-f8ac-460b-c420-eec0256036df"
      },
      "source": [
        "# O len revela o tamanho do seu dicionário (também se aplica a tuplas e listas)\n",
        "\n",
        "len(dicio)"
      ],
      "execution_count": 80,
      "outputs": [
        {
          "output_type": "execute_result",
          "data": {
            "text/plain": [
              "3"
            ]
          },
          "metadata": {
            "tags": []
          },
          "execution_count": 80
        }
      ]
    },
    {
      "cell_type": "markdown",
      "metadata": {
        "id": "jZ1V9gK3usnA"
      },
      "source": [
        "# del"
      ]
    },
    {
      "cell_type": "code",
      "metadata": {
        "colab": {
          "base_uri": "https://localhost:8080/"
        },
        "id": "MWNgXCvUtvge",
        "outputId": "f1e56e03-faa3-4b15-e1bf-c30209a5e3be"
      },
      "source": [
        "# O 'del' apaga um determinado valor do seu dicionário (também se aplica a listas)\n",
        " \n",
        "dicio "
      ],
      "execution_count": 82,
      "outputs": [
        {
          "output_type": "execute_result",
          "data": {
            "text/plain": [
              "{'Ana': 19, 'Gabi': 23, 'Marcos': 25}"
            ]
          },
          "metadata": {
            "tags": []
          },
          "execution_count": 82
        }
      ]
    },
    {
      "cell_type": "code",
      "metadata": {
        "id": "dR3O5sGtt6XH"
      },
      "source": [
        "del(dicio['Marcos']) # Devemos informar a chave correspondente ao item que queremos remover"
      ],
      "execution_count": 89,
      "outputs": []
    },
    {
      "cell_type": "code",
      "metadata": {
        "colab": {
          "base_uri": "https://localhost:8080/"
        },
        "id": "aD88f-G4uBTe",
        "outputId": "4b4afd64-5999-4da3-9db3-2c574743ab33"
      },
      "source": [
        "dicio"
      ],
      "execution_count": 90,
      "outputs": [
        {
          "output_type": "execute_result",
          "data": {
            "text/plain": [
              "{'Ana': 19, 'Gabi': 23}"
            ]
          },
          "metadata": {
            "tags": []
          },
          "execution_count": 90
        }
      ]
    }
  ]
}