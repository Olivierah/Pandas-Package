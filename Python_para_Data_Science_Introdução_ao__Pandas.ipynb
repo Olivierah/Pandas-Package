{
  "nbformat": 4,
  "nbformat_minor": 0,
  "metadata": {
    "colab": {
      "name": "Python_para_Data_Science_Introdução_ao_ Pandas.ipynb",
      "provenance": [],
      "authorship_tag": "ABX9TyMhNOErJYTDGmq3x+WrGU1O"
    },
    "kernelspec": {
      "name": "python3",
      "display_name": "Python 3"
    },
    "language_info": {
      "name": "python"
    }
  },
  "cells": [
    {
      "cell_type": "markdown",
      "metadata": {
        "id": "MCjmiTRp4-4n"
      },
      "source": [
        "#Conhecendo o Pandas\n",
        "\n",
        "#### Pandas é uma biblioteca/pacote muito utilizada para análise e manipulação de dados. Por ser bem versátil, ela permite trabalhar de forma rápida e eficiente com arquivos de vários tipo, sendo alguns deles o csv, xlsx, xls, txt, json, etc.\n",
        "\n",
        "## Documentação: https://pandas.pydata.org/"
      ]
    },
    {
      "cell_type": "markdown",
      "metadata": {
        "id": "dR0F5Bz5TMXs"
      },
      "source": [
        "# Importando o pacote Pandas"
      ]
    },
    {
      "cell_type": "code",
      "metadata": {
        "id": "3geyEWU0DfM1"
      },
      "source": [
        "# Por questões de boas práticas, a comunidade faz o uso de alguns apelidos para alguns pacotes. \n",
        "# No caso do pandas utilizamos o \"pd\"\n",
        "# para associar o apelido ao pacote, pasta utilizar o \"as\" para realizar a associação\n",
        "\n",
        "import pandas as pd"
      ],
      "execution_count": 1,
      "outputs": []
    },
    {
      "cell_type": "markdown",
      "metadata": {
        "id": "chMSIw3UTVd9"
      },
      "source": [
        "# Fazendo o upload de arquivos pelo Google Colab"
      ]
    },
    {
      "cell_type": "code",
      "metadata": {
        "id": "CcBRsEZ0ThpS"
      },
      "source": [
        "from google.colab import files"
      ],
      "execution_count": 30,
      "outputs": []
    },
    {
      "cell_type": "code",
      "metadata": {
        "id": "Pr9t_gvrILaj"
      },
      "source": [
        "# files.upload()"
      ],
      "execution_count": null,
      "outputs": []
    },
    {
      "cell_type": "markdown",
      "metadata": {
        "id": "b0Jhh3BDTmUo"
      },
      "source": [
        "# Lendo o arquivo CSV\n",
        "\n",
        "### CSV significa \"*comma separated values*\", ou seja, valores separados por vírgula. Em alguns casos, dependendo da fonte dos dados, eles podem ter separadores diferentes da vírgula, como o \"ponto e vírgula\" (;). em casos como esses, ao ler o CSV, você deve informar o tipo de separador pelo \"sep\" dentro da função \"read_csv\", como mostra o exemplo abaixo.\n",
        "\n",
        "#### Mais informações sobre o read_csv, acesse a documentação em: https://pandas.pydata.org/pandas-docs/version/0.23/generated/pandas.read_csv.html"
      ]
    },
    {
      "cell_type": "code",
      "metadata": {
        "colab": {
          "base_uri": "https://localhost:8080/",
          "height": 419
        },
        "id": "Bpb6_2dhIOMx",
        "outputId": "f0b602ea-2cda-4384-c35d-301d714d13f6"
      },
      "source": [
        "db = pd.read_csv('db.csv', sep=';')\n",
        "db"
      ],
      "execution_count": null,
      "outputs": [
        {
          "output_type": "execute_result",
          "data": {
            "text/html": [
              "<div>\n",
              "<style scoped>\n",
              "    .dataframe tbody tr th:only-of-type {\n",
              "        vertical-align: middle;\n",
              "    }\n",
              "\n",
              "    .dataframe tbody tr th {\n",
              "        vertical-align: top;\n",
              "    }\n",
              "\n",
              "    .dataframe thead th {\n",
              "        text-align: right;\n",
              "    }\n",
              "</style>\n",
              "<table border=\"1\" class=\"dataframe\">\n",
              "  <thead>\n",
              "    <tr style=\"text-align: right;\">\n",
              "      <th></th>\n",
              "      <th>Nome</th>\n",
              "      <th>Motor</th>\n",
              "      <th>Ano</th>\n",
              "      <th>Quilometragem</th>\n",
              "      <th>Zero_km</th>\n",
              "      <th>Acessórios</th>\n",
              "      <th>Valor</th>\n",
              "    </tr>\n",
              "  </thead>\n",
              "  <tbody>\n",
              "    <tr>\n",
              "      <th>0</th>\n",
              "      <td>Jetta Variant</td>\n",
              "      <td>Motor 4.0 Turbo</td>\n",
              "      <td>2003</td>\n",
              "      <td>44410.0</td>\n",
              "      <td>False</td>\n",
              "      <td>['Rodas de liga', 'Travas elétricas', 'Piloto ...</td>\n",
              "      <td>88078.64</td>\n",
              "    </tr>\n",
              "    <tr>\n",
              "      <th>1</th>\n",
              "      <td>Passat</td>\n",
              "      <td>Motor Diesel</td>\n",
              "      <td>1991</td>\n",
              "      <td>5712.0</td>\n",
              "      <td>False</td>\n",
              "      <td>['Central multimídia', 'Teto panorâmico', 'Fre...</td>\n",
              "      <td>106161.94</td>\n",
              "    </tr>\n",
              "    <tr>\n",
              "      <th>2</th>\n",
              "      <td>Crossfox</td>\n",
              "      <td>Motor Diesel V8</td>\n",
              "      <td>1990</td>\n",
              "      <td>37123.0</td>\n",
              "      <td>False</td>\n",
              "      <td>['Piloto automático', 'Controle de estabilidad...</td>\n",
              "      <td>72832.16</td>\n",
              "    </tr>\n",
              "    <tr>\n",
              "      <th>3</th>\n",
              "      <td>DS5</td>\n",
              "      <td>Motor 2.4 Turbo</td>\n",
              "      <td>2019</td>\n",
              "      <td>NaN</td>\n",
              "      <td>True</td>\n",
              "      <td>['Travas elétricas', '4 X 4', 'Vidros elétrico...</td>\n",
              "      <td>124549.07</td>\n",
              "    </tr>\n",
              "    <tr>\n",
              "      <th>4</th>\n",
              "      <td>Aston Martin DB4</td>\n",
              "      <td>Motor 2.4 Turbo</td>\n",
              "      <td>2006</td>\n",
              "      <td>25757.0</td>\n",
              "      <td>False</td>\n",
              "      <td>['Rodas de liga', '4 X 4', 'Central multimídia...</td>\n",
              "      <td>92612.10</td>\n",
              "    </tr>\n",
              "    <tr>\n",
              "      <th>...</th>\n",
              "      <td>...</td>\n",
              "      <td>...</td>\n",
              "      <td>...</td>\n",
              "      <td>...</td>\n",
              "      <td>...</td>\n",
              "      <td>...</td>\n",
              "      <td>...</td>\n",
              "    </tr>\n",
              "    <tr>\n",
              "      <th>253</th>\n",
              "      <td>Phantom 2013</td>\n",
              "      <td>Motor V8</td>\n",
              "      <td>2014</td>\n",
              "      <td>27505.0</td>\n",
              "      <td>False</td>\n",
              "      <td>['Controle de estabilidade', 'Piloto automátic...</td>\n",
              "      <td>51759.58</td>\n",
              "    </tr>\n",
              "    <tr>\n",
              "      <th>254</th>\n",
              "      <td>Cadillac Ciel concept</td>\n",
              "      <td>Motor V8</td>\n",
              "      <td>1991</td>\n",
              "      <td>29981.0</td>\n",
              "      <td>False</td>\n",
              "      <td>['Bancos de couro', 'Painel digital', 'Sensor ...</td>\n",
              "      <td>51667.06</td>\n",
              "    </tr>\n",
              "    <tr>\n",
              "      <th>255</th>\n",
              "      <td>Classe GLK</td>\n",
              "      <td>Motor 5.0 V8 Bi-Turbo</td>\n",
              "      <td>2002</td>\n",
              "      <td>52637.0</td>\n",
              "      <td>False</td>\n",
              "      <td>['Rodas de liga', 'Controle de tração', 'Câmbi...</td>\n",
              "      <td>68934.03</td>\n",
              "    </tr>\n",
              "    <tr>\n",
              "      <th>256</th>\n",
              "      <td>Aston Martin DB5</td>\n",
              "      <td>Motor Diesel</td>\n",
              "      <td>1996</td>\n",
              "      <td>7685.0</td>\n",
              "      <td>False</td>\n",
              "      <td>['Ar condicionado', '4 X 4', 'Câmbio automátic...</td>\n",
              "      <td>122110.90</td>\n",
              "    </tr>\n",
              "    <tr>\n",
              "      <th>257</th>\n",
              "      <td>Macan</td>\n",
              "      <td>Motor Diesel V6</td>\n",
              "      <td>1992</td>\n",
              "      <td>50188.0</td>\n",
              "      <td>False</td>\n",
              "      <td>['Central multimídia', 'Teto panorâmico', 'Vid...</td>\n",
              "      <td>90381.47</td>\n",
              "    </tr>\n",
              "  </tbody>\n",
              "</table>\n",
              "<p>258 rows × 7 columns</p>\n",
              "</div>"
            ],
            "text/plain": [
              "                      Nome  ...      Valor\n",
              "0            Jetta Variant  ...   88078.64\n",
              "1                   Passat  ...  106161.94\n",
              "2                 Crossfox  ...   72832.16\n",
              "3                      DS5  ...  124549.07\n",
              "4         Aston Martin DB4  ...   92612.10\n",
              "..                     ...  ...        ...\n",
              "253           Phantom 2013  ...   51759.58\n",
              "254  Cadillac Ciel concept  ...   51667.06\n",
              "255             Classe GLK  ...   68934.03\n",
              "256       Aston Martin DB5  ...  122110.90\n",
              "257                  Macan  ...   90381.47\n",
              "\n",
              "[258 rows x 7 columns]"
            ]
          },
          "metadata": {
            "tags": []
          },
          "execution_count": 4
        }
      ]
    },
    {
      "cell_type": "markdown",
      "metadata": {
        "id": "l680b4MFW9GD"
      },
      "source": [
        "# Visualização de dados e seus tipos"
      ]
    },
    {
      "cell_type": "code",
      "metadata": {
        "colab": {
          "base_uri": "https://localhost:8080/",
          "height": 204
        },
        "id": "USsPul3iIijt",
        "outputId": "9b481ee9-4e66-4397-edd3-dc26b887f94c"
      },
      "source": [
        "# Para visualizar uma amostra dos dados, podemos utilizar head.\n",
        "# Se não for passado nenhum valor por parâmetro, por padrão, ele retornará as 5 primeiras linhas do dataframe.\n",
        "\n",
        "db.head()"
      ],
      "execution_count": null,
      "outputs": [
        {
          "output_type": "execute_result",
          "data": {
            "text/html": [
              "<div>\n",
              "<style scoped>\n",
              "    .dataframe tbody tr th:only-of-type {\n",
              "        vertical-align: middle;\n",
              "    }\n",
              "\n",
              "    .dataframe tbody tr th {\n",
              "        vertical-align: top;\n",
              "    }\n",
              "\n",
              "    .dataframe thead th {\n",
              "        text-align: right;\n",
              "    }\n",
              "</style>\n",
              "<table border=\"1\" class=\"dataframe\">\n",
              "  <thead>\n",
              "    <tr style=\"text-align: right;\">\n",
              "      <th></th>\n",
              "      <th>Nome</th>\n",
              "      <th>Motor</th>\n",
              "      <th>Ano</th>\n",
              "      <th>Quilometragem</th>\n",
              "      <th>Zero_km</th>\n",
              "      <th>Acessórios</th>\n",
              "      <th>Valor</th>\n",
              "    </tr>\n",
              "  </thead>\n",
              "  <tbody>\n",
              "    <tr>\n",
              "      <th>0</th>\n",
              "      <td>Jetta Variant</td>\n",
              "      <td>Motor 4.0 Turbo</td>\n",
              "      <td>2003</td>\n",
              "      <td>44410.0</td>\n",
              "      <td>False</td>\n",
              "      <td>['Rodas de liga', 'Travas elétricas', 'Piloto ...</td>\n",
              "      <td>88078.64</td>\n",
              "    </tr>\n",
              "    <tr>\n",
              "      <th>1</th>\n",
              "      <td>Passat</td>\n",
              "      <td>Motor Diesel</td>\n",
              "      <td>1991</td>\n",
              "      <td>5712.0</td>\n",
              "      <td>False</td>\n",
              "      <td>['Central multimídia', 'Teto panorâmico', 'Fre...</td>\n",
              "      <td>106161.94</td>\n",
              "    </tr>\n",
              "    <tr>\n",
              "      <th>2</th>\n",
              "      <td>Crossfox</td>\n",
              "      <td>Motor Diesel V8</td>\n",
              "      <td>1990</td>\n",
              "      <td>37123.0</td>\n",
              "      <td>False</td>\n",
              "      <td>['Piloto automático', 'Controle de estabilidad...</td>\n",
              "      <td>72832.16</td>\n",
              "    </tr>\n",
              "    <tr>\n",
              "      <th>3</th>\n",
              "      <td>DS5</td>\n",
              "      <td>Motor 2.4 Turbo</td>\n",
              "      <td>2019</td>\n",
              "      <td>NaN</td>\n",
              "      <td>True</td>\n",
              "      <td>['Travas elétricas', '4 X 4', 'Vidros elétrico...</td>\n",
              "      <td>124549.07</td>\n",
              "    </tr>\n",
              "    <tr>\n",
              "      <th>4</th>\n",
              "      <td>Aston Martin DB4</td>\n",
              "      <td>Motor 2.4 Turbo</td>\n",
              "      <td>2006</td>\n",
              "      <td>25757.0</td>\n",
              "      <td>False</td>\n",
              "      <td>['Rodas de liga', '4 X 4', 'Central multimídia...</td>\n",
              "      <td>92612.10</td>\n",
              "    </tr>\n",
              "  </tbody>\n",
              "</table>\n",
              "</div>"
            ],
            "text/plain": [
              "               Nome  ...      Valor\n",
              "0     Jetta Variant  ...   88078.64\n",
              "1            Passat  ...  106161.94\n",
              "2          Crossfox  ...   72832.16\n",
              "3               DS5  ...  124549.07\n",
              "4  Aston Martin DB4  ...   92612.10\n",
              "\n",
              "[5 rows x 7 columns]"
            ]
          },
          "metadata": {
            "tags": []
          },
          "execution_count": 5
        }
      ]
    },
    {
      "cell_type": "code",
      "metadata": {
        "colab": {
          "base_uri": "https://localhost:8080/",
          "height": 359
        },
        "id": "SBLOnNp9W1yC",
        "outputId": "b1bcbc29-04c7-4abb-ca44-73be84ff0c83"
      },
      "source": [
        "# Para visualizar mais valores, basta passar por parâmetro a quantidades de linha que deseja ver \n",
        "# Abaixo vamos ver as 10 primeiras linhas\n",
        "\n",
        "db.head(10)"
      ],
      "execution_count": null,
      "outputs": [
        {
          "output_type": "execute_result",
          "data": {
            "text/html": [
              "<div>\n",
              "<style scoped>\n",
              "    .dataframe tbody tr th:only-of-type {\n",
              "        vertical-align: middle;\n",
              "    }\n",
              "\n",
              "    .dataframe tbody tr th {\n",
              "        vertical-align: top;\n",
              "    }\n",
              "\n",
              "    .dataframe thead th {\n",
              "        text-align: right;\n",
              "    }\n",
              "</style>\n",
              "<table border=\"1\" class=\"dataframe\">\n",
              "  <thead>\n",
              "    <tr style=\"text-align: right;\">\n",
              "      <th></th>\n",
              "      <th>Nome</th>\n",
              "      <th>Motor</th>\n",
              "      <th>Ano</th>\n",
              "      <th>Quilometragem</th>\n",
              "      <th>Zero_km</th>\n",
              "      <th>Acessórios</th>\n",
              "      <th>Valor</th>\n",
              "    </tr>\n",
              "  </thead>\n",
              "  <tbody>\n",
              "    <tr>\n",
              "      <th>0</th>\n",
              "      <td>Jetta Variant</td>\n",
              "      <td>Motor 4.0 Turbo</td>\n",
              "      <td>2003</td>\n",
              "      <td>44410.0</td>\n",
              "      <td>False</td>\n",
              "      <td>['Rodas de liga', 'Travas elétricas', 'Piloto ...</td>\n",
              "      <td>88078.64</td>\n",
              "    </tr>\n",
              "    <tr>\n",
              "      <th>1</th>\n",
              "      <td>Passat</td>\n",
              "      <td>Motor Diesel</td>\n",
              "      <td>1991</td>\n",
              "      <td>5712.0</td>\n",
              "      <td>False</td>\n",
              "      <td>['Central multimídia', 'Teto panorâmico', 'Fre...</td>\n",
              "      <td>106161.94</td>\n",
              "    </tr>\n",
              "    <tr>\n",
              "      <th>2</th>\n",
              "      <td>Crossfox</td>\n",
              "      <td>Motor Diesel V8</td>\n",
              "      <td>1990</td>\n",
              "      <td>37123.0</td>\n",
              "      <td>False</td>\n",
              "      <td>['Piloto automático', 'Controle de estabilidad...</td>\n",
              "      <td>72832.16</td>\n",
              "    </tr>\n",
              "    <tr>\n",
              "      <th>3</th>\n",
              "      <td>DS5</td>\n",
              "      <td>Motor 2.4 Turbo</td>\n",
              "      <td>2019</td>\n",
              "      <td>NaN</td>\n",
              "      <td>True</td>\n",
              "      <td>['Travas elétricas', '4 X 4', 'Vidros elétrico...</td>\n",
              "      <td>124549.07</td>\n",
              "    </tr>\n",
              "    <tr>\n",
              "      <th>4</th>\n",
              "      <td>Aston Martin DB4</td>\n",
              "      <td>Motor 2.4 Turbo</td>\n",
              "      <td>2006</td>\n",
              "      <td>25757.0</td>\n",
              "      <td>False</td>\n",
              "      <td>['Rodas de liga', '4 X 4', 'Central multimídia...</td>\n",
              "      <td>92612.10</td>\n",
              "    </tr>\n",
              "    <tr>\n",
              "      <th>5</th>\n",
              "      <td>Palio Weekend</td>\n",
              "      <td>Motor 1.8 16v</td>\n",
              "      <td>2012</td>\n",
              "      <td>10728.0</td>\n",
              "      <td>False</td>\n",
              "      <td>['Sensor de estacionamento', 'Teto panorâmico'...</td>\n",
              "      <td>97497.73</td>\n",
              "    </tr>\n",
              "    <tr>\n",
              "      <th>6</th>\n",
              "      <td>A5</td>\n",
              "      <td>Motor 4.0 Turbo</td>\n",
              "      <td>2019</td>\n",
              "      <td>NaN</td>\n",
              "      <td>True</td>\n",
              "      <td>['Câmbio automático', 'Câmera de estacionament...</td>\n",
              "      <td>56445.20</td>\n",
              "    </tr>\n",
              "    <tr>\n",
              "      <th>7</th>\n",
              "      <td>Série 3 Cabrio</td>\n",
              "      <td>Motor 1.0 8v</td>\n",
              "      <td>2009</td>\n",
              "      <td>77599.0</td>\n",
              "      <td>False</td>\n",
              "      <td>['Controle de estabilidade', 'Sensor crepuscul...</td>\n",
              "      <td>112310.44</td>\n",
              "    </tr>\n",
              "    <tr>\n",
              "      <th>8</th>\n",
              "      <td>Dodge Jorney</td>\n",
              "      <td>Motor 3.0 32v</td>\n",
              "      <td>2010</td>\n",
              "      <td>99197.0</td>\n",
              "      <td>False</td>\n",
              "      <td>['Vidros elétricos', 'Piloto automático', 'Tet...</td>\n",
              "      <td>120716.27</td>\n",
              "    </tr>\n",
              "    <tr>\n",
              "      <th>9</th>\n",
              "      <td>Carens</td>\n",
              "      <td>Motor 5.0 V8 Bi-Turbo</td>\n",
              "      <td>2011</td>\n",
              "      <td>37978.0</td>\n",
              "      <td>False</td>\n",
              "      <td>['Ar condicionado', 'Painel digital', 'Central...</td>\n",
              "      <td>76566.49</td>\n",
              "    </tr>\n",
              "  </tbody>\n",
              "</table>\n",
              "</div>"
            ],
            "text/plain": [
              "               Nome  ...      Valor\n",
              "0     Jetta Variant  ...   88078.64\n",
              "1            Passat  ...  106161.94\n",
              "2          Crossfox  ...   72832.16\n",
              "3               DS5  ...  124549.07\n",
              "4  Aston Martin DB4  ...   92612.10\n",
              "5     Palio Weekend  ...   97497.73\n",
              "6                A5  ...   56445.20\n",
              "7    Série 3 Cabrio  ...  112310.44\n",
              "8      Dodge Jorney  ...  120716.27\n",
              "9            Carens  ...   76566.49\n",
              "\n",
              "[10 rows x 7 columns]"
            ]
          },
          "metadata": {
            "tags": []
          },
          "execution_count": 6
        }
      ]
    },
    {
      "cell_type": "code",
      "metadata": {
        "colab": {
          "base_uri": "https://localhost:8080/"
        },
        "id": "w-C1CKTXX4vi",
        "outputId": "c376ae47-ea34-4744-c308-cd3b38999bb7"
      },
      "source": [
        "# Vamos descobrir o formato do nosso dataframe\n",
        "\n",
        "db.shape "
      ],
      "execution_count": null,
      "outputs": [
        {
          "output_type": "execute_result",
          "data": {
            "text/plain": [
              "(258, 7)"
            ]
          },
          "metadata": {
            "tags": []
          },
          "execution_count": 7
        }
      ]
    },
    {
      "cell_type": "code",
      "metadata": {
        "id": "p2u9fDqEXUNm"
      },
      "source": [
        "# Agora que sabemos que o nosso dataframe possui 258 linhas e 7 colunas\n",
        "\n",
        "# para visualizar todas as linhas, podemos utilizar o \"pd.options\"\n",
        "\n",
        "pd.options.display.max_rows = 258 # O 'display.max_rows' vai exibir a quantidade de linhas que for informado, no caso são 258.\n",
        "\n",
        "# Também podemos utilizar o \"pd.options\" para visualizar todas as colunas\n",
        "\n",
        "pd.options.display.max_columns = 7 # Ao invés de passar 'display.max_rows', vamos passar o 'display.max_columns'\n",
        "\n",
        "# Agora, sempre que tentar visualizar seu dataframe, você verá a quantidade de linhas e colunas que forma configuradas pelo pd.options"
      ],
      "execution_count": null,
      "outputs": []
    },
    {
      "cell_type": "markdown",
      "metadata": {
        "id": "zJ75I-yrcQ8y"
      },
      "source": [
        "#### Para mais informações sobre Options and settings, acesse: https://pandas.pydata.org/pandas-docs/stable/user_guide/options.html"
      ]
    },
    {
      "cell_type": "code",
      "metadata": {
        "id": "4HYO5rZ5cm9r"
      },
      "source": [
        "# Para melhor visualização, vamos definir os valores como 10 linhas e 7 colunas\n",
        "\n",
        "pd.options.display.max_columns = 7\n",
        "pd.options.display.max_rows = 10"
      ],
      "execution_count": null,
      "outputs": []
    },
    {
      "cell_type": "code",
      "metadata": {
        "colab": {
          "base_uri": "https://localhost:8080/",
          "height": 419
        },
        "id": "Png0PFyNczI4",
        "outputId": "19f5abbf-638c-4ded-9dc7-e8083c5a390c"
      },
      "source": [
        "db"
      ],
      "execution_count": null,
      "outputs": [
        {
          "output_type": "execute_result",
          "data": {
            "text/html": [
              "<div>\n",
              "<style scoped>\n",
              "    .dataframe tbody tr th:only-of-type {\n",
              "        vertical-align: middle;\n",
              "    }\n",
              "\n",
              "    .dataframe tbody tr th {\n",
              "        vertical-align: top;\n",
              "    }\n",
              "\n",
              "    .dataframe thead th {\n",
              "        text-align: right;\n",
              "    }\n",
              "</style>\n",
              "<table border=\"1\" class=\"dataframe\">\n",
              "  <thead>\n",
              "    <tr style=\"text-align: right;\">\n",
              "      <th></th>\n",
              "      <th>Nome</th>\n",
              "      <th>Motor</th>\n",
              "      <th>Ano</th>\n",
              "      <th>Quilometragem</th>\n",
              "      <th>Zero_km</th>\n",
              "      <th>Acessórios</th>\n",
              "      <th>Valor</th>\n",
              "    </tr>\n",
              "  </thead>\n",
              "  <tbody>\n",
              "    <tr>\n",
              "      <th>0</th>\n",
              "      <td>Jetta Variant</td>\n",
              "      <td>Motor 4.0 Turbo</td>\n",
              "      <td>2003</td>\n",
              "      <td>44410.0</td>\n",
              "      <td>False</td>\n",
              "      <td>['Rodas de liga', 'Travas elétricas', 'Piloto ...</td>\n",
              "      <td>88078.64</td>\n",
              "    </tr>\n",
              "    <tr>\n",
              "      <th>1</th>\n",
              "      <td>Passat</td>\n",
              "      <td>Motor Diesel</td>\n",
              "      <td>1991</td>\n",
              "      <td>5712.0</td>\n",
              "      <td>False</td>\n",
              "      <td>['Central multimídia', 'Teto panorâmico', 'Fre...</td>\n",
              "      <td>106161.94</td>\n",
              "    </tr>\n",
              "    <tr>\n",
              "      <th>2</th>\n",
              "      <td>Crossfox</td>\n",
              "      <td>Motor Diesel V8</td>\n",
              "      <td>1990</td>\n",
              "      <td>37123.0</td>\n",
              "      <td>False</td>\n",
              "      <td>['Piloto automático', 'Controle de estabilidad...</td>\n",
              "      <td>72832.16</td>\n",
              "    </tr>\n",
              "    <tr>\n",
              "      <th>3</th>\n",
              "      <td>DS5</td>\n",
              "      <td>Motor 2.4 Turbo</td>\n",
              "      <td>2019</td>\n",
              "      <td>NaN</td>\n",
              "      <td>True</td>\n",
              "      <td>['Travas elétricas', '4 X 4', 'Vidros elétrico...</td>\n",
              "      <td>124549.07</td>\n",
              "    </tr>\n",
              "    <tr>\n",
              "      <th>4</th>\n",
              "      <td>Aston Martin DB4</td>\n",
              "      <td>Motor 2.4 Turbo</td>\n",
              "      <td>2006</td>\n",
              "      <td>25757.0</td>\n",
              "      <td>False</td>\n",
              "      <td>['Rodas de liga', '4 X 4', 'Central multimídia...</td>\n",
              "      <td>92612.10</td>\n",
              "    </tr>\n",
              "    <tr>\n",
              "      <th>...</th>\n",
              "      <td>...</td>\n",
              "      <td>...</td>\n",
              "      <td>...</td>\n",
              "      <td>...</td>\n",
              "      <td>...</td>\n",
              "      <td>...</td>\n",
              "      <td>...</td>\n",
              "    </tr>\n",
              "    <tr>\n",
              "      <th>253</th>\n",
              "      <td>Phantom 2013</td>\n",
              "      <td>Motor V8</td>\n",
              "      <td>2014</td>\n",
              "      <td>27505.0</td>\n",
              "      <td>False</td>\n",
              "      <td>['Controle de estabilidade', 'Piloto automátic...</td>\n",
              "      <td>51759.58</td>\n",
              "    </tr>\n",
              "    <tr>\n",
              "      <th>254</th>\n",
              "      <td>Cadillac Ciel concept</td>\n",
              "      <td>Motor V8</td>\n",
              "      <td>1991</td>\n",
              "      <td>29981.0</td>\n",
              "      <td>False</td>\n",
              "      <td>['Bancos de couro', 'Painel digital', 'Sensor ...</td>\n",
              "      <td>51667.06</td>\n",
              "    </tr>\n",
              "    <tr>\n",
              "      <th>255</th>\n",
              "      <td>Classe GLK</td>\n",
              "      <td>Motor 5.0 V8 Bi-Turbo</td>\n",
              "      <td>2002</td>\n",
              "      <td>52637.0</td>\n",
              "      <td>False</td>\n",
              "      <td>['Rodas de liga', 'Controle de tração', 'Câmbi...</td>\n",
              "      <td>68934.03</td>\n",
              "    </tr>\n",
              "    <tr>\n",
              "      <th>256</th>\n",
              "      <td>Aston Martin DB5</td>\n",
              "      <td>Motor Diesel</td>\n",
              "      <td>1996</td>\n",
              "      <td>7685.0</td>\n",
              "      <td>False</td>\n",
              "      <td>['Ar condicionado', '4 X 4', 'Câmbio automátic...</td>\n",
              "      <td>122110.90</td>\n",
              "    </tr>\n",
              "    <tr>\n",
              "      <th>257</th>\n",
              "      <td>Macan</td>\n",
              "      <td>Motor Diesel V6</td>\n",
              "      <td>1992</td>\n",
              "      <td>50188.0</td>\n",
              "      <td>False</td>\n",
              "      <td>['Central multimídia', 'Teto panorâmico', 'Vid...</td>\n",
              "      <td>90381.47</td>\n",
              "    </tr>\n",
              "  </tbody>\n",
              "</table>\n",
              "<p>258 rows × 7 columns</p>\n",
              "</div>"
            ],
            "text/plain": [
              "                      Nome                  Motor   Ano  Quilometragem  \\\n",
              "0            Jetta Variant        Motor 4.0 Turbo  2003        44410.0   \n",
              "1                   Passat           Motor Diesel  1991         5712.0   \n",
              "2                 Crossfox        Motor Diesel V8  1990        37123.0   \n",
              "3                      DS5        Motor 2.4 Turbo  2019            NaN   \n",
              "4         Aston Martin DB4        Motor 2.4 Turbo  2006        25757.0   \n",
              "..                     ...                    ...   ...            ...   \n",
              "253           Phantom 2013               Motor V8  2014        27505.0   \n",
              "254  Cadillac Ciel concept               Motor V8  1991        29981.0   \n",
              "255             Classe GLK  Motor 5.0 V8 Bi-Turbo  2002        52637.0   \n",
              "256       Aston Martin DB5           Motor Diesel  1996         7685.0   \n",
              "257                  Macan        Motor Diesel V6  1992        50188.0   \n",
              "\n",
              "     Zero_km                                         Acessórios      Valor  \n",
              "0      False  ['Rodas de liga', 'Travas elétricas', 'Piloto ...   88078.64  \n",
              "1      False  ['Central multimídia', 'Teto panorâmico', 'Fre...  106161.94  \n",
              "2      False  ['Piloto automático', 'Controle de estabilidad...   72832.16  \n",
              "3       True  ['Travas elétricas', '4 X 4', 'Vidros elétrico...  124549.07  \n",
              "4      False  ['Rodas de liga', '4 X 4', 'Central multimídia...   92612.10  \n",
              "..       ...                                                ...        ...  \n",
              "253    False  ['Controle de estabilidade', 'Piloto automátic...   51759.58  \n",
              "254    False  ['Bancos de couro', 'Painel digital', 'Sensor ...   51667.06  \n",
              "255    False  ['Rodas de liga', 'Controle de tração', 'Câmbi...   68934.03  \n",
              "256    False  ['Ar condicionado', '4 X 4', 'Câmbio automátic...  122110.90  \n",
              "257    False  ['Central multimídia', 'Teto panorâmico', 'Vid...   90381.47  \n",
              "\n",
              "[258 rows x 7 columns]"
            ]
          },
          "metadata": {
            "tags": []
          },
          "execution_count": 10
        }
      ]
    },
    {
      "cell_type": "code",
      "metadata": {
        "colab": {
          "base_uri": "https://localhost:8080/"
        },
        "id": "wBvB4AVUc0Ab",
        "outputId": "5dd75889-c857-43f2-e7fb-5c71d8a3ef57"
      },
      "source": [
        "# Para visualizar os tipos de dados presentes no seu dataframe podemos utilizar o dtypes\n",
        "\n",
        "db.dtypes"
      ],
      "execution_count": null,
      "outputs": [
        {
          "output_type": "execute_result",
          "data": {
            "text/plain": [
              "Nome              object\n",
              "Motor             object\n",
              "Ano                int64\n",
              "Quilometragem    float64\n",
              "Zero_km             bool\n",
              "Acessórios        object\n",
              "Valor            float64\n",
              "dtype: object"
            ]
          },
          "metadata": {
            "tags": []
          },
          "execution_count": 11
        }
      ]
    },
    {
      "cell_type": "code",
      "metadata": {
        "colab": {
          "base_uri": "https://localhost:8080/"
        },
        "id": "LD0E9YsUdCwP",
        "outputId": "630ce68a-739a-4b94-9f43-f1a62c9a1428"
      },
      "source": [
        "# Também podemos utilizar o info para ver mais ifnromações sobre o dataframe\n",
        "\n",
        "db.info()"
      ],
      "execution_count": null,
      "outputs": [
        {
          "output_type": "stream",
          "text": [
            "<class 'pandas.core.frame.DataFrame'>\n",
            "RangeIndex: 258 entries, 0 to 257\n",
            "Data columns (total 7 columns):\n",
            " #   Column         Non-Null Count  Dtype  \n",
            "---  ------         --------------  -----  \n",
            " 0   Nome           258 non-null    object \n",
            " 1   Motor          258 non-null    object \n",
            " 2   Ano            258 non-null    int64  \n",
            " 3   Quilometragem  197 non-null    float64\n",
            " 4   Zero_km        258 non-null    bool   \n",
            " 5   Acessórios     258 non-null    object \n",
            " 6   Valor          258 non-null    float64\n",
            "dtypes: bool(1), float64(2), int64(1), object(3)\n",
            "memory usage: 12.5+ KB\n"
          ],
          "name": "stdout"
        }
      ]
    },
    {
      "cell_type": "code",
      "metadata": {
        "colab": {
          "base_uri": "https://localhost:8080/",
          "height": 297
        },
        "id": "gIeS2MXhfN42",
        "outputId": "84d0a96c-3443-4092-db7d-53b744a2ecf9"
      },
      "source": [
        "# O describe pode mostrar várias métricas estatisticas para auxiliar na exploração. \n",
        "# Abaixo ele mostra apenas 3 colunas das 7. Isso acontece porque apenas 3 colunas apresentam valores numéricos, como INT e Float\n",
        "# Valores do tipo Boleano (bool) e String (objetct) não entram nas métricas.\n",
        "\n",
        "db.describe()"
      ],
      "execution_count": null,
      "outputs": [
        {
          "output_type": "execute_result",
          "data": {
            "text/html": [
              "<div>\n",
              "<style scoped>\n",
              "    .dataframe tbody tr th:only-of-type {\n",
              "        vertical-align: middle;\n",
              "    }\n",
              "\n",
              "    .dataframe tbody tr th {\n",
              "        vertical-align: top;\n",
              "    }\n",
              "\n",
              "    .dataframe thead th {\n",
              "        text-align: right;\n",
              "    }\n",
              "</style>\n",
              "<table border=\"1\" class=\"dataframe\">\n",
              "  <thead>\n",
              "    <tr style=\"text-align: right;\">\n",
              "      <th></th>\n",
              "      <th>Ano</th>\n",
              "      <th>Quilometragem</th>\n",
              "      <th>Valor</th>\n",
              "    </tr>\n",
              "  </thead>\n",
              "  <tbody>\n",
              "    <tr>\n",
              "      <th>count</th>\n",
              "      <td>258.000000</td>\n",
              "      <td>197.000000</td>\n",
              "      <td>258.000000</td>\n",
              "    </tr>\n",
              "    <tr>\n",
              "      <th>mean</th>\n",
              "      <td>2007.511628</td>\n",
              "      <td>58278.421320</td>\n",
              "      <td>98960.513101</td>\n",
              "    </tr>\n",
              "    <tr>\n",
              "      <th>std</th>\n",
              "      <td>9.725906</td>\n",
              "      <td>35836.733259</td>\n",
              "      <td>29811.932305</td>\n",
              "    </tr>\n",
              "    <tr>\n",
              "      <th>min</th>\n",
              "      <td>1990.000000</td>\n",
              "      <td>107.000000</td>\n",
              "      <td>50742.100000</td>\n",
              "    </tr>\n",
              "    <tr>\n",
              "      <th>25%</th>\n",
              "      <td>1999.000000</td>\n",
              "      <td>27505.000000</td>\n",
              "      <td>70743.512500</td>\n",
              "    </tr>\n",
              "    <tr>\n",
              "      <th>50%</th>\n",
              "      <td>2008.000000</td>\n",
              "      <td>55083.000000</td>\n",
              "      <td>97724.380000</td>\n",
              "    </tr>\n",
              "    <tr>\n",
              "      <th>75%</th>\n",
              "      <td>2018.000000</td>\n",
              "      <td>90495.000000</td>\n",
              "      <td>124633.302500</td>\n",
              "    </tr>\n",
              "    <tr>\n",
              "      <th>max</th>\n",
              "      <td>2019.000000</td>\n",
              "      <td>119945.000000</td>\n",
              "      <td>149489.920000</td>\n",
              "    </tr>\n",
              "  </tbody>\n",
              "</table>\n",
              "</div>"
            ],
            "text/plain": [
              "               Ano  Quilometragem          Valor\n",
              "count   258.000000     197.000000     258.000000\n",
              "mean   2007.511628   58278.421320   98960.513101\n",
              "std       9.725906   35836.733259   29811.932305\n",
              "min    1990.000000     107.000000   50742.100000\n",
              "25%    1999.000000   27505.000000   70743.512500\n",
              "50%    2008.000000   55083.000000   97724.380000\n",
              "75%    2018.000000   90495.000000  124633.302500\n",
              "max    2019.000000  119945.000000  149489.920000"
            ]
          },
          "metadata": {
            "tags": []
          },
          "execution_count": 13
        }
      ]
    },
    {
      "cell_type": "code",
      "metadata": {
        "colab": {
          "base_uri": "https://localhost:8080/"
        },
        "id": "AQ2NIri7i4BO",
        "outputId": "edd3018d-808c-4901-ed1b-3e3412153c70"
      },
      "source": [
        "# podemos utilizar a Built-in Function \"type\" para descobrir o tipo de dado.\n",
        "\n",
        "type(db)"
      ],
      "execution_count": null,
      "outputs": [
        {
          "output_type": "execute_result",
          "data": {
            "text/plain": [
              "pandas.core.frame.DataFrame"
            ]
          },
          "metadata": {
            "tags": []
          },
          "execution_count": 14
        }
      ]
    },
    {
      "cell_type": "markdown",
      "metadata": {
        "id": "KIZBV-nGhH3b"
      },
      "source": [
        "# Tuplas\n",
        "\n",
        "### Semelhante às listas, as Tuplas servem para guardar uma coleção de itens. A principal diferença é que as Tuplas são imutáveis. \n",
        "\n",
        "#### Para definir uma Tupla utilizamos () ao invés de [].\n",
        "\n",
        "#### lista = ['a', 'b', 'c']\n",
        "#### tupla = ('a', 'b', 'c')\n"
      ]
    },
    {
      "cell_type": "code",
      "metadata": {
        "colab": {
          "base_uri": "https://localhost:8080/"
        },
        "id": "4IX9VIahfTsD",
        "outputId": "af2a340f-3104-4933-abe6-cfa034f920ae"
      },
      "source": [
        "# Uma das forma de definir uma tupla\n",
        "\n",
        "tp = ('a', 'b', 'c')\n",
        "tp"
      ],
      "execution_count": null,
      "outputs": [
        {
          "output_type": "execute_result",
          "data": {
            "text/plain": [
              "('a', 'b', 'c')"
            ]
          },
          "metadata": {
            "tags": []
          },
          "execution_count": 15
        }
      ]
    },
    {
      "cell_type": "code",
      "metadata": {
        "colab": {
          "base_uri": "https://localhost:8080/"
        },
        "id": "KjqlCBvZjckJ",
        "outputId": "504f408b-081b-42f1-f55c-0d24ba266dcc"
      },
      "source": [
        "type(tp)"
      ],
      "execution_count": null,
      "outputs": [
        {
          "output_type": "execute_result",
          "data": {
            "text/plain": [
              "tuple"
            ]
          },
          "metadata": {
            "tags": []
          },
          "execution_count": 16
        }
      ]
    },
    {
      "cell_type": "code",
      "metadata": {
        "colab": {
          "base_uri": "https://localhost:8080/"
        },
        "id": "MXxzccREjno9",
        "outputId": "109c46aa-8f39-467a-d4a6-58af0ed7e2b9"
      },
      "source": [
        "# As tuplas, assim como as listas, armazenam tipos variados de dados.\n",
        "# Vamos criar uma tupla com duas variáveis que possuem tipos diferentes\n",
        "\n",
        "nome = 'Jose'\n",
        "idade = 35\n",
        "(nome, idade)"
      ],
      "execution_count": null,
      "outputs": [
        {
          "output_type": "execute_result",
          "data": {
            "text/plain": [
              "('Jose', 35)"
            ]
          },
          "metadata": {
            "tags": []
          },
          "execution_count": 17
        }
      ]
    },
    {
      "cell_type": "code",
      "metadata": {
        "colab": {
          "base_uri": "https://localhost:8080/"
        },
        "id": "hZKBRNJJj8vz",
        "outputId": "b4a8b383-d831-4c81-efc4-ce1960d61809"
      },
      "source": [
        "#Podemos utilizar Built-in Functions do Python para criar uma tupla, como mostra o exemplo abaixo:\n",
        "\n",
        "nomes_Pessoas = tuple(['Maria', 'Jonas', 'Kleber', 'Ana'])\n",
        "nomes_Pessoas"
      ],
      "execution_count": null,
      "outputs": [
        {
          "output_type": "execute_result",
          "data": {
            "text/plain": [
              "('Maria', 'Jonas', 'Kleber', 'Ana')"
            ]
          },
          "metadata": {
            "tags": []
          },
          "execution_count": 18
        }
      ]
    },
    {
      "cell_type": "markdown",
      "metadata": {
        "id": "L__4gZidk3jI"
      },
      "source": [
        "#### Mais informações sobre Built-in Functions: https://docs.python.org/3/library/functions.html"
      ]
    },
    {
      "cell_type": "markdown",
      "metadata": {
        "id": "P9EAIcV1sp05"
      },
      "source": [
        "# Seleção em Tuplas"
      ]
    },
    {
      "cell_type": "code",
      "metadata": {
        "colab": {
          "base_uri": "https://localhost:8080/"
        },
        "id": "GNYj58PIk93r",
        "outputId": "d8ad39c8-2292-4cad-c431-d087269fb904"
      },
      "source": [
        "# Para selecionar os dados dentro da Tupla, basta selecionar o índice como é feito em uma lista.\n",
        "\n",
        "nomes_Pessoas[0]"
      ],
      "execution_count": null,
      "outputs": [
        {
          "output_type": "execute_result",
          "data": {
            "application/vnd.google.colaboratory.intrinsic+json": {
              "type": "string"
            },
            "text/plain": [
              "'Maria'"
            ]
          },
          "metadata": {
            "tags": []
          },
          "execution_count": 19
        }
      ]
    },
    {
      "cell_type": "code",
      "metadata": {
        "colab": {
          "base_uri": "https://localhost:8080/"
        },
        "id": "PMIEo9Dzs64O",
        "outputId": "b2ebb3da-ea40-49f0-9eb7-14396699e187"
      },
      "source": [
        "# Selecionando último item da Tupla\n",
        "\n",
        "nomes_Pessoas[-1]"
      ],
      "execution_count": null,
      "outputs": [
        {
          "output_type": "execute_result",
          "data": {
            "application/vnd.google.colaboratory.intrinsic+json": {
              "type": "string"
            },
            "text/plain": [
              "'Ana'"
            ]
          },
          "metadata": {
            "tags": []
          },
          "execution_count": 20
        }
      ]
    },
    {
      "cell_type": "code",
      "metadata": {
        "colab": {
          "base_uri": "https://localhost:8080/"
        },
        "id": "Io795qB1tATW",
        "outputId": "7db18526-f8e7-482d-959f-a768e1a4a06b"
      },
      "source": [
        "# Fazendo o fatiamento de uma Tupla.\n",
        "\n",
        "# Vamos selecionar os dois primeiros valores, a partir do índice 0. Vale lembrar que o último valor não será incluído.\n",
        "\n",
        "nomes_Pessoas[0:2]"
      ],
      "execution_count": null,
      "outputs": [
        {
          "output_type": "execute_result",
          "data": {
            "text/plain": [
              "('Maria', 'Jonas')"
            ]
          },
          "metadata": {
            "tags": []
          },
          "execution_count": 21
        }
      ]
    },
    {
      "cell_type": "code",
      "metadata": {
        "id": "f_u1RG-btMfR"
      },
      "source": [
        "nomes_Pessoas = ('Maria', 'Jonas', 'Kleber', 'Ana',('Isabella', 'Mateus', 'Gisele'))"
      ],
      "execution_count": null,
      "outputs": []
    },
    {
      "cell_type": "code",
      "metadata": {
        "colab": {
          "base_uri": "https://localhost:8080/"
        },
        "id": "x9cNCuKbtxd8",
        "outputId": "8a0ece1c-5f34-4fc7-8514-59dea6e444ba"
      },
      "source": [
        "# Agora vamos selecionar os dados que estão dentro da Tupla que está dentro da Tupla.\n",
        "\n",
        "nomes_Pessoas[4]"
      ],
      "execution_count": null,
      "outputs": [
        {
          "output_type": "execute_result",
          "data": {
            "text/plain": [
              "('Isabella', 'Mateus', 'Gisele')"
            ]
          },
          "metadata": {
            "tags": []
          },
          "execution_count": 23
        }
      ]
    },
    {
      "cell_type": "code",
      "metadata": {
        "colab": {
          "base_uri": "https://localhost:8080/"
        },
        "id": "mEm1khN9uCIf",
        "outputId": "7f3a8e7c-4ca6-4f73-bc77-821075367d9f"
      },
      "source": [
        "# Para acessar uma valor específico da Tupla interna, devemos realizar o seguinte fatiamento:\n",
        "\n",
        "# Vamos selecionar o nome \"Isabella\" que está presente no índice 0 da Tupla interna.\n",
        "\n",
        "nomes_Pessoas[4][0] "
      ],
      "execution_count": null,
      "outputs": [
        {
          "output_type": "execute_result",
          "data": {
            "application/vnd.google.colaboratory.intrinsic+json": {
              "type": "string"
            },
            "text/plain": [
              "'Isabella'"
            ]
          },
          "metadata": {
            "tags": []
          },
          "execution_count": 24
        }
      ]
    },
    {
      "cell_type": "code",
      "metadata": {
        "colab": {
          "base_uri": "https://localhost:8080/"
        },
        "id": "rv5g8r17uNU2",
        "outputId": "87d37d03-2ba9-46f9-be21-de49db0c8bd3"
      },
      "source": [
        "# Agora vamos selecionar o nome \"Gisele\"\n",
        "\n",
        "nomes_Pessoas[4][2]"
      ],
      "execution_count": null,
      "outputs": [
        {
          "output_type": "execute_result",
          "data": {
            "application/vnd.google.colaboratory.intrinsic+json": {
              "type": "string"
            },
            "text/plain": [
              "'Gisele'"
            ]
          },
          "metadata": {
            "tags": []
          },
          "execution_count": 25
        }
      ]
    },
    {
      "cell_type": "markdown",
      "metadata": {
        "id": "r_ISk3lKufcW"
      },
      "source": [
        "# Iterações em Tuplas"
      ]
    },
    {
      "cell_type": "code",
      "metadata": {
        "id": "fpFaOa2rueKG"
      },
      "source": [
        "# Vamos reapoveitar os dados anteriores.\n",
        "\n",
        "nomes_Pessoas = ('Maria', 'Jonas', 'Kleber', 'Ana')"
      ],
      "execution_count": null,
      "outputs": []
    },
    {
      "cell_type": "code",
      "metadata": {
        "colab": {
          "base_uri": "https://localhost:8080/"
        },
        "id": "0gw43QIzu4AX",
        "outputId": "1d9f6c03-809e-4932-ea1a-2a53ba756e3c"
      },
      "source": [
        "# Vamos fazer varrer a nossa tupla utilizando o for\n",
        "\n",
        "for i in nomes_Pessoas:\n",
        "  print(i)"
      ],
      "execution_count": null,
      "outputs": [
        {
          "output_type": "stream",
          "text": [
            "Maria\n",
            "Jonas\n",
            "Kleber\n",
            "Ana\n"
          ],
          "name": "stdout"
        }
      ]
    },
    {
      "cell_type": "markdown",
      "metadata": {
        "id": "-BaduxThv7lD"
      },
      "source": [
        "# Desempacotamento de uma Tupla"
      ]
    },
    {
      "cell_type": "code",
      "metadata": {
        "id": "amqQmXtfvfM-"
      },
      "source": [
        "# Podemos pegar cada valor presente em uma tupla e associar a uma variável específica.\n",
        "\n",
        "nome_1, nome_2, nome_3, nome_4 = nomes_Pessoas"
      ],
      "execution_count": null,
      "outputs": []
    },
    {
      "cell_type": "code",
      "metadata": {
        "colab": {
          "base_uri": "https://localhost:8080/"
        },
        "id": "hdou-_aGwaet",
        "outputId": "2bc2d6d4-eb70-4ea5-a492-601862f09aee"
      },
      "source": [
        "nome_1"
      ],
      "execution_count": null,
      "outputs": [
        {
          "output_type": "execute_result",
          "data": {
            "application/vnd.google.colaboratory.intrinsic+json": {
              "type": "string"
            },
            "text/plain": [
              "'Maria'"
            ]
          },
          "metadata": {
            "tags": []
          },
          "execution_count": 29
        }
      ]
    },
    {
      "cell_type": "code",
      "metadata": {
        "colab": {
          "base_uri": "https://localhost:8080/"
        },
        "id": "u7WwPuB1wbyw",
        "outputId": "9028accb-cf69-4751-9ea4-092cb3771d77"
      },
      "source": [
        "nome_2"
      ],
      "execution_count": null,
      "outputs": [
        {
          "output_type": "execute_result",
          "data": {
            "application/vnd.google.colaboratory.intrinsic+json": {
              "type": "string"
            },
            "text/plain": [
              "'Jonas'"
            ]
          },
          "metadata": {
            "tags": []
          },
          "execution_count": 30
        }
      ]
    },
    {
      "cell_type": "code",
      "metadata": {
        "colab": {
          "base_uri": "https://localhost:8080/"
        },
        "id": "cQ9iy68PwczS",
        "outputId": "f971601d-37ab-4f7d-cd58-eecad4edf6e3"
      },
      "source": [
        "nome_3"
      ],
      "execution_count": null,
      "outputs": [
        {
          "output_type": "execute_result",
          "data": {
            "application/vnd.google.colaboratory.intrinsic+json": {
              "type": "string"
            },
            "text/plain": [
              "'Kleber'"
            ]
          },
          "metadata": {
            "tags": []
          },
          "execution_count": 31
        }
      ]
    },
    {
      "cell_type": "code",
      "metadata": {
        "colab": {
          "base_uri": "https://localhost:8080/"
        },
        "id": "ml5m9p_Ywe8H",
        "outputId": "5f710df9-7a6e-4b36-d65c-ba69a648ef17"
      },
      "source": [
        "nome_4"
      ],
      "execution_count": null,
      "outputs": [
        {
          "output_type": "execute_result",
          "data": {
            "application/vnd.google.colaboratory.intrinsic+json": {
              "type": "string"
            },
            "text/plain": [
              "'Ana'"
            ]
          },
          "metadata": {
            "tags": []
          },
          "execution_count": 32
        }
      ]
    },
    {
      "cell_type": "code",
      "metadata": {
        "colab": {
          "base_uri": "https://localhost:8080/"
        },
        "id": "vvjSwuxBwfs5",
        "outputId": "b8051a08-a7a3-40c3-a5f6-4110f21ecf5c"
      },
      "source": [
        "#Caso você queira transferir os valores de uma tupla para uma lista, é possível utilizar o for e associar cada valor a uma nova lista\n",
        "\n",
        "nomes_Lista = []\n",
        "\n",
        "for i in nomes_Pessoas:\n",
        "  nomes_Lista.append(i)\n",
        "nomes_Lista"
      ],
      "execution_count": null,
      "outputs": [
        {
          "output_type": "execute_result",
          "data": {
            "text/plain": [
              "['Maria', 'Jonas', 'Kleber', 'Ana']"
            ]
          },
          "metadata": {
            "tags": []
          },
          "execution_count": 33
        }
      ]
    },
    {
      "cell_type": "code",
      "metadata": {
        "colab": {
          "base_uri": "https://localhost:8080/"
        },
        "id": "BTQiu90Dwu15",
        "outputId": "4bc17346-e4d0-494b-9de3-a0f5fe9a36ad"
      },
      "source": [
        "# Você também pode criar atribuições de elementos específicos, ignorando aqueles que não são necessários.\n",
        "\n",
        "nomes_Pessoas"
      ],
      "execution_count": null,
      "outputs": [
        {
          "output_type": "execute_result",
          "data": {
            "text/plain": [
              "('Maria', 'Jonas', 'Kleber', 'Ana')"
            ]
          },
          "metadata": {
            "tags": []
          },
          "execution_count": 34
        }
      ]
    },
    {
      "cell_type": "code",
      "metadata": {
        "id": "zgG1A8Yrx0F4"
      },
      "source": [
        "# Vamos selecionar apenas o \"jonas\" e a \"Ana\"\n",
        "\n",
        "_, A, _, B = nomes_Pessoas # Quando utilizei o underline/undersocore eu ignorei os valores correspondentes dentro da Tupla"
      ],
      "execution_count": null,
      "outputs": []
    },
    {
      "cell_type": "code",
      "metadata": {
        "colab": {
          "base_uri": "https://localhost:8080/"
        },
        "id": "35U8pzLAyANx",
        "outputId": "7c0cc5c8-cf14-4646-f16e-b3ba36d45ac7"
      },
      "source": [
        "A"
      ],
      "execution_count": null,
      "outputs": [
        {
          "output_type": "execute_result",
          "data": {
            "application/vnd.google.colaboratory.intrinsic+json": {
              "type": "string"
            },
            "text/plain": [
              "'Jonas'"
            ]
          },
          "metadata": {
            "tags": []
          },
          "execution_count": 36
        }
      ]
    },
    {
      "cell_type": "code",
      "metadata": {
        "colab": {
          "base_uri": "https://localhost:8080/"
        },
        "id": "JwoTNTD5yBHw",
        "outputId": "aa370588-7dd7-4407-d981-1fb68441b89b"
      },
      "source": [
        "B"
      ],
      "execution_count": null,
      "outputs": [
        {
          "output_type": "execute_result",
          "data": {
            "application/vnd.google.colaboratory.intrinsic+json": {
              "type": "string"
            },
            "text/plain": [
              "'Ana'"
            ]
          },
          "metadata": {
            "tags": []
          },
          "execution_count": 37
        }
      ]
    },
    {
      "cell_type": "code",
      "metadata": {
        "id": "rsi4WxVgyCH-"
      },
      "source": [
        "# Também podemos passar o valor correspondente ao índice\n",
        "\n",
        "k = nomes_Pessoas[2]"
      ],
      "execution_count": null,
      "outputs": []
    },
    {
      "cell_type": "code",
      "metadata": {
        "colab": {
          "base_uri": "https://localhost:8080/"
        },
        "id": "C6S0SolIysOv",
        "outputId": "7a8fdc24-4a8d-4930-b8ed-d9c395f4f2a2"
      },
      "source": [
        "k"
      ],
      "execution_count": null,
      "outputs": [
        {
          "output_type": "execute_result",
          "data": {
            "application/vnd.google.colaboratory.intrinsic+json": {
              "type": "string"
            },
            "text/plain": [
              "'Kleber'"
            ]
          },
          "metadata": {
            "tags": []
          },
          "execution_count": 39
        }
      ]
    },
    {
      "cell_type": "code",
      "metadata": {
        "id": "26eSShTgzcDn"
      },
      "source": [
        "# Para ignorar uma sequência de valores, podemos utilizar o *_\n",
        "\n",
        "_, A, *_ = nomes_Pessoas"
      ],
      "execution_count": null,
      "outputs": []
    },
    {
      "cell_type": "code",
      "metadata": {
        "colab": {
          "base_uri": "https://localhost:8080/"
        },
        "id": "fVW-A-4Czlyr",
        "outputId": "6a95e053-d9a1-49f1-8963-86b595ae3f80"
      },
      "source": [
        "A"
      ],
      "execution_count": null,
      "outputs": [
        {
          "output_type": "execute_result",
          "data": {
            "application/vnd.google.colaboratory.intrinsic+json": {
              "type": "string"
            },
            "text/plain": [
              "'Jonas'"
            ]
          },
          "metadata": {
            "tags": []
          },
          "execution_count": 41
        }
      ]
    },
    {
      "cell_type": "markdown",
      "metadata": {
        "id": "w5H7DyZuzDOc"
      },
      "source": [
        "# zip()\n",
        "\n",
        "### A função zip retorna uma lista de tuplas"
      ]
    },
    {
      "cell_type": "code",
      "metadata": {
        "colab": {
          "base_uri": "https://localhost:8080/"
        },
        "id": "E8awZDZWys-b",
        "outputId": "f977312e-75e0-4be9-933e-1a01cb32cb76"
      },
      "source": [
        "# Vamos criar duas lisas, uma lista de nomes e uma lista de idade.\n",
        "\n",
        "nomes = ['Maria', 'Jonas', 'Kleber', 'Ana']\n",
        "nomes"
      ],
      "execution_count": null,
      "outputs": [
        {
          "output_type": "execute_result",
          "data": {
            "text/plain": [
              "['Maria', 'Jonas', 'Kleber', 'Ana']"
            ]
          },
          "metadata": {
            "tags": []
          },
          "execution_count": 42
        }
      ]
    },
    {
      "cell_type": "code",
      "metadata": {
        "colab": {
          "base_uri": "https://localhost:8080/"
        },
        "id": "wp3T5oeR1ao-",
        "outputId": "3f45bd1d-3425-47a1-f041-b9d93512030b"
      },
      "source": [
        "idades = [25, 28, 30, 19]\n",
        "idades"
      ],
      "execution_count": null,
      "outputs": [
        {
          "output_type": "execute_result",
          "data": {
            "text/plain": [
              "[25, 28, 30, 19]"
            ]
          },
          "metadata": {
            "tags": []
          },
          "execution_count": 43
        }
      ]
    },
    {
      "cell_type": "code",
      "metadata": {
        "colab": {
          "base_uri": "https://localhost:8080/"
        },
        "id": "ZivmyJ_z1eTS",
        "outputId": "0ff5dab6-33b0-4623-ccd2-7d8824efbe63"
      },
      "source": [
        "# Vamos utilizar o zip para criar um iterador\n",
        "\n",
        "zip(nomes, idades)"
      ],
      "execution_count": null,
      "outputs": [
        {
          "output_type": "execute_result",
          "data": {
            "text/plain": [
              "<zip at 0x7f2575e49a00>"
            ]
          },
          "metadata": {
            "tags": []
          },
          "execution_count": 44
        }
      ]
    },
    {
      "cell_type": "code",
      "metadata": {
        "colab": {
          "base_uri": "https://localhost:8080/"
        },
        "id": "XMj71jjl1mR3",
        "outputId": "3267df40-daa5-4030-fe14-4af25ae8cb27"
      },
      "source": [
        "# Agora vamos utilizar a Built-in Function list.\n",
        "# Teremos como retorno uma lista com os iteradores.\n",
        "\n",
        "# O que aconteceu? O zip associou o primeiro item da lista nomes com o primeiro item da lista idades, e foi repetindo esse mesmo padrão.\n",
        "\n",
        "list(zip(nomes, idades))"
      ],
      "execution_count": null,
      "outputs": [
        {
          "output_type": "execute_result",
          "data": {
            "text/plain": [
              "[('Maria', 25), ('Jonas', 28), ('Kleber', 30), ('Ana', 19)]"
            ]
          },
          "metadata": {
            "tags": []
          },
          "execution_count": 45
        }
      ]
    },
    {
      "cell_type": "code",
      "metadata": {
        "colab": {
          "base_uri": "https://localhost:8080/"
        },
        "id": "nugEeYQs1pfF",
        "outputId": "e47d2ac6-e95d-4bbe-8834-34e799a55a8f"
      },
      "source": [
        "# Agora podemos iterar o nome e a idade da pessoa ao mesmo tempo\n",
        "\n",
        "for i in zip(nomes, idades):\n",
        "  print(i)"
      ],
      "execution_count": null,
      "outputs": [
        {
          "output_type": "stream",
          "text": [
            "('Maria', 25)\n",
            "('Jonas', 28)\n",
            "('Kleber', 30)\n",
            "('Ana', 19)\n"
          ],
          "name": "stdout"
        }
      ]
    },
    {
      "cell_type": "code",
      "metadata": {
        "colab": {
          "base_uri": "https://localhost:8080/",
          "height": 214
        },
        "id": "lfDaQQE_30VL",
        "outputId": "baf9a720-3240-4f9e-9329-5b50d7e6c940"
      },
      "source": [
        "# O formato acima não seria muito útil, pois não conseguimos explorar os valores de forma individual.\n",
        "# Veja o exemplo abaixo:\n",
        "\n",
        "for i in zip(nomes, idades):\n",
        "  if idades > 26:\n",
        "    print(i)"
      ],
      "execution_count": null,
      "outputs": [
        {
          "output_type": "error",
          "ename": "TypeError",
          "evalue": "ignored",
          "traceback": [
            "\u001b[0;31m---------------------------------------------------------------------------\u001b[0m",
            "\u001b[0;31mTypeError\u001b[0m                                 Traceback (most recent call last)",
            "\u001b[0;32m<ipython-input-47-9a65a62c5e88>\u001b[0m in \u001b[0;36m<module>\u001b[0;34m()\u001b[0m\n\u001b[1;32m      3\u001b[0m \u001b[0;34m\u001b[0m\u001b[0m\n\u001b[1;32m      4\u001b[0m \u001b[0;32mfor\u001b[0m \u001b[0mi\u001b[0m \u001b[0;32min\u001b[0m \u001b[0mzip\u001b[0m\u001b[0;34m(\u001b[0m\u001b[0mnomes\u001b[0m\u001b[0;34m,\u001b[0m \u001b[0midades\u001b[0m\u001b[0;34m)\u001b[0m\u001b[0;34m:\u001b[0m\u001b[0;34m\u001b[0m\u001b[0;34m\u001b[0m\u001b[0m\n\u001b[0;32m----> 5\u001b[0;31m   \u001b[0;32mif\u001b[0m \u001b[0midades\u001b[0m \u001b[0;34m>\u001b[0m \u001b[0;36m26\u001b[0m\u001b[0;34m:\u001b[0m\u001b[0;34m\u001b[0m\u001b[0;34m\u001b[0m\u001b[0m\n\u001b[0m\u001b[1;32m      6\u001b[0m     \u001b[0mprint\u001b[0m\u001b[0;34m(\u001b[0m\u001b[0mi\u001b[0m\u001b[0;34m)\u001b[0m\u001b[0;34m\u001b[0m\u001b[0;34m\u001b[0m\u001b[0m\n",
            "\u001b[0;31mTypeError\u001b[0m: '>' not supported between instances of 'list' and 'int'"
          ]
        }
      ]
    },
    {
      "cell_type": "code",
      "metadata": {
        "id": "JmVI1msk3Wm7"
      },
      "source": [
        "# O mais indicado seria fazer um desempacotamento, assim podemos avaliar os dados individualmente\n",
        "\n",
        "for nomes, idades in zip(nomes, idades):\n",
        "  if idades > 26:\n",
        "    print(nomes, idades)"
      ],
      "execution_count": null,
      "outputs": []
    },
    {
      "cell_type": "markdown",
      "metadata": {
        "id": "bI6qcZZxURvI"
      },
      "source": [
        "# Dicionários\n",
        "\n",
        "#### As listas armazenam uma coleção de valores que podem ser acessados através de seus índices.\n",
        "\n",
        "#### Os dicionários também podem acessar uma coleção de valores, mas eles não trabalha com o conceito de índice, mas sim de chave (key) e valor (value)"
      ]
    },
    {
      "cell_type": "code",
      "metadata": {
        "colab": {
          "base_uri": "https://localhost:8080/"
        },
        "id": "jM6z4KpvUT1w",
        "outputId": "225acc6e-9bac-48cd-b283-9d6c0443ffb4"
      },
      "source": [
        "# Vamos comparar os acessos de uma lista com o dicionário\n",
        "\n",
        "nomes = ['Ana', 'Gabi', 'Marcos']\n",
        "nomes"
      ],
      "execution_count": null,
      "outputs": [
        {
          "output_type": "execute_result",
          "data": {
            "text/plain": [
              "['Ana', 'Gabi', 'Marcos']"
            ]
          },
          "metadata": {
            "tags": []
          },
          "execution_count": 48
        }
      ]
    },
    {
      "cell_type": "code",
      "metadata": {
        "colab": {
          "base_uri": "https://localhost:8080/"
        },
        "id": "26mCSkyuljxN",
        "outputId": "a5c6fa3a-213d-4f7e-a76e-b3d2566b247e"
      },
      "source": [
        "idade = [19, 23, 25]\n",
        "idade"
      ],
      "execution_count": null,
      "outputs": [
        {
          "output_type": "execute_result",
          "data": {
            "text/plain": [
              "[19, 23, 25]"
            ]
          },
          "metadata": {
            "tags": []
          },
          "execution_count": 49
        }
      ]
    },
    {
      "cell_type": "code",
      "metadata": {
        "colab": {
          "base_uri": "https://localhost:8080/"
        },
        "id": "dVUk4p8TnZGH",
        "outputId": "f1cda390-560a-4bd8-f173-3ad1d04a1a32"
      },
      "source": [
        "nomes.index('Gabi') # o 'index' mostra qual é o índice do ítem selecionado"
      ],
      "execution_count": null,
      "outputs": [
        {
          "output_type": "execute_result",
          "data": {
            "text/plain": [
              "1"
            ]
          },
          "metadata": {
            "tags": []
          },
          "execution_count": 50
        }
      ]
    },
    {
      "cell_type": "code",
      "metadata": {
        "colab": {
          "base_uri": "https://localhost:8080/"
        },
        "id": "JuhWHtsXnMKP",
        "outputId": "b6906348-548a-48f2-de4c-d686368e93d1"
      },
      "source": [
        "# Com uma lista pequena fica fácil de descobrir o índice, mas no caso uma lista com muitos valores, ficaria difícil contar os índices.\n",
        "# Como as listas estão separadas, vamos descobrir a idade da 'Gabi' passando seu índice na lista de idade.\n",
        "\n",
        "idade[nomes.index('Gabi')]"
      ],
      "execution_count": null,
      "outputs": [
        {
          "output_type": "execute_result",
          "data": {
            "text/plain": [
              "23"
            ]
          },
          "metadata": {
            "tags": []
          },
          "execution_count": 51
        }
      ]
    },
    {
      "cell_type": "code",
      "metadata": {
        "colab": {
          "base_uri": "https://localhost:8080/"
        },
        "id": "3wzR-CIJpqEE",
        "outputId": "892af257-86f1-4873-d03a-e5fd9f55eb2c"
      },
      "source": [
        "# Agora vamos criar uma dicionário com os valores acima e vamos chama-lo de 'dicio'.\n",
        "\n",
        "dicio = {'Ana' : 19, 'Gabi' : 23, 'Marcos' : 25}\n",
        "dicio"
      ],
      "execution_count": null,
      "outputs": [
        {
          "output_type": "execute_result",
          "data": {
            "text/plain": [
              "{'Ana': 19, 'Gabi': 23, 'Marcos': 25}"
            ]
          },
          "metadata": {
            "tags": []
          },
          "execution_count": 85
        }
      ]
    },
    {
      "cell_type": "code",
      "metadata": {
        "colab": {
          "base_uri": "https://localhost:8080/"
        },
        "id": "SUiYscXWqMju",
        "outputId": "0f503b85-de0e-40f6-c50a-9f337272064a"
      },
      "source": [
        "type(dicio)"
      ],
      "execution_count": null,
      "outputs": [
        {
          "output_type": "execute_result",
          "data": {
            "text/plain": [
              "dict"
            ]
          },
          "metadata": {
            "tags": []
          },
          "execution_count": 53
        }
      ]
    },
    {
      "cell_type": "markdown",
      "metadata": {
        "id": "KpyUzDBUqWL0"
      },
      "source": [
        "# Criando um dicionário com o zip"
      ]
    },
    {
      "cell_type": "code",
      "metadata": {
        "colab": {
          "base_uri": "https://localhost:8080/"
        },
        "id": "ZDHNzLkWqSo5",
        "outputId": "af76f8ad-31a4-420c-9159-f0c56d045856"
      },
      "source": [
        "# Podemos agrupar utilizando o zip\n",
        "\n",
        "dicio = dict(zip(nomes, idade))\n",
        "dicio"
      ],
      "execution_count": null,
      "outputs": [
        {
          "output_type": "execute_result",
          "data": {
            "text/plain": [
              "{'Ana': 19, 'Gabi': 23, 'Marcos': 25}"
            ]
          },
          "metadata": {
            "tags": []
          },
          "execution_count": 54
        }
      ]
    },
    {
      "cell_type": "markdown",
      "metadata": {
        "id": "I6OsKNptrOhJ"
      },
      "source": [
        "# Operações com dicionários"
      ]
    },
    {
      "cell_type": "code",
      "metadata": {
        "colab": {
          "base_uri": "https://localhost:8080/"
        },
        "id": "rEhrb9pvqmfN",
        "outputId": "8b1bc168-6fc3-4249-c28e-de6c52232a1e"
      },
      "source": [
        "dicio"
      ],
      "execution_count": null,
      "outputs": [
        {
          "output_type": "execute_result",
          "data": {
            "text/plain": [
              "{'Ana': 19, 'Gabi': 23, 'Marcos': 25}"
            ]
          },
          "metadata": {
            "tags": []
          },
          "execution_count": 55
        }
      ]
    },
    {
      "cell_type": "markdown",
      "metadata": {
        "id": "ySmV6Ckwu8Ig"
      },
      "source": [
        "# [key]"
      ]
    },
    {
      "cell_type": "code",
      "metadata": {
        "colab": {
          "base_uri": "https://localhost:8080/"
        },
        "id": "-jbVhh0PrT0z",
        "outputId": "0286e528-c485-4730-b37f-eceb6c956078"
      },
      "source": [
        "# No dicionário acessamos valores através das chaves (key).\n",
        "\n",
        "dicio['Ana'] # Utilizando a chave 'Ana' eu vejo qual o seu valor correspondente, no caso a idade da Ana"
      ],
      "execution_count": null,
      "outputs": [
        {
          "output_type": "execute_result",
          "data": {
            "text/plain": [
              "19"
            ]
          },
          "metadata": {
            "tags": []
          },
          "execution_count": 56
        }
      ]
    },
    {
      "cell_type": "markdown",
      "metadata": {
        "id": "A6Ws0TJ1uk9h"
      },
      "source": [
        "# in / not in"
      ]
    },
    {
      "cell_type": "code",
      "metadata": {
        "colab": {
          "base_uri": "https://localhost:8080/"
        },
        "id": "-BpDPHUDrYed",
        "outputId": "8c7f1ca0-f1f5-4b14-9f71-c5cf39282924"
      },
      "source": [
        "# Também podemos descobrir se um valor está presente dentro do dicionário pesquisando pela chave.\n",
        "# Se estiver presente, ele retorna True\n",
        "\n",
        "'Ana' in dicio"
      ],
      "execution_count": null,
      "outputs": [
        {
          "output_type": "execute_result",
          "data": {
            "text/plain": [
              "True"
            ]
          },
          "metadata": {
            "tags": []
          },
          "execution_count": 57
        }
      ]
    },
    {
      "cell_type": "code",
      "metadata": {
        "colab": {
          "base_uri": "https://localhost:8080/"
        },
        "id": "5CcZg2WGs_Hj",
        "outputId": "bcf932b9-2619-459c-b5e2-0013c7bd5875"
      },
      "source": [
        "# Se não estiver presente, ele retorna False\n",
        "\n",
        "'Jose' in dicio"
      ],
      "execution_count": null,
      "outputs": [
        {
          "output_type": "execute_result",
          "data": {
            "text/plain": [
              "False"
            ]
          },
          "metadata": {
            "tags": []
          },
          "execution_count": 58
        }
      ]
    },
    {
      "cell_type": "code",
      "metadata": {
        "colab": {
          "base_uri": "https://localhost:8080/"
        },
        "id": "TOe7jd3UtBKi",
        "outputId": "63a03f16-39ef-4f27-8098-1cad45816e81"
      },
      "source": [
        "# Também podemos verificar se o valor não está presente no dicionário.\n",
        "# Para isso podemos utilizar o not in\n",
        "\n",
        "'Jose' not in dicio"
      ],
      "execution_count": null,
      "outputs": [
        {
          "output_type": "execute_result",
          "data": {
            "text/plain": [
              "True"
            ]
          },
          "metadata": {
            "tags": []
          },
          "execution_count": 59
        }
      ]
    },
    {
      "cell_type": "markdown",
      "metadata": {
        "id": "_XzanwzWuo5A"
      },
      "source": [
        "# len"
      ]
    },
    {
      "cell_type": "code",
      "metadata": {
        "colab": {
          "base_uri": "https://localhost:8080/"
        },
        "id": "s3oYk_CLtYw-",
        "outputId": "b94e36dc-74c4-431b-cf40-8b5ffb866f3b"
      },
      "source": [
        "# O len revela o tamanho do seu dicionário (também se aplica a tuplas e listas)\n",
        "\n",
        "len(dicio)"
      ],
      "execution_count": null,
      "outputs": [
        {
          "output_type": "execute_result",
          "data": {
            "text/plain": [
              "3"
            ]
          },
          "metadata": {
            "tags": []
          },
          "execution_count": 60
        }
      ]
    },
    {
      "cell_type": "markdown",
      "metadata": {
        "id": "jZ1V9gK3usnA"
      },
      "source": [
        "# del"
      ]
    },
    {
      "cell_type": "code",
      "metadata": {
        "colab": {
          "base_uri": "https://localhost:8080/"
        },
        "id": "MWNgXCvUtvge",
        "outputId": "c5667491-ebfb-4dac-ebe9-ce80bdd12185"
      },
      "source": [
        "# O 'del' apaga um determinado valor do seu dicionário (também se aplica a listas)\n",
        " \n",
        "dicio "
      ],
      "execution_count": null,
      "outputs": [
        {
          "output_type": "execute_result",
          "data": {
            "text/plain": [
              "{'Ana': 19, 'Gabi': 23, 'Marcos': 25}"
            ]
          },
          "metadata": {
            "tags": []
          },
          "execution_count": 61
        }
      ]
    },
    {
      "cell_type": "code",
      "metadata": {
        "id": "dR3O5sGtt6XH"
      },
      "source": [
        "del(dicio['Marcos']) # Devemos informar a chave correspondente ao item que queremos remover"
      ],
      "execution_count": null,
      "outputs": []
    },
    {
      "cell_type": "code",
      "metadata": {
        "colab": {
          "base_uri": "https://localhost:8080/"
        },
        "id": "aD88f-G4uBTe",
        "outputId": "54cc5d2d-3bb0-4272-b395-e1a06456005d"
      },
      "source": [
        "dicio"
      ],
      "execution_count": null,
      "outputs": [
        {
          "output_type": "execute_result",
          "data": {
            "text/plain": [
              "{'Ana': 19, 'Gabi': 23}"
            ]
          },
          "metadata": {
            "tags": []
          },
          "execution_count": 63
        }
      ]
    },
    {
      "cell_type": "markdown",
      "metadata": {
        "id": "E4I4iNeqbIAW"
      },
      "source": [
        "# Métodos - Dicionários"
      ]
    },
    {
      "cell_type": "markdown",
      "metadata": {
        "id": "_Ibt5VYKbNee"
      },
      "source": [
        "# update\n",
        "\n",
        "#### Permite a atualização do dicionário. Podemos incluir novos valores."
      ]
    },
    {
      "cell_type": "code",
      "metadata": {
        "colab": {
          "base_uri": "https://localhost:8080/"
        },
        "id": "mQjno1vEbHMB",
        "outputId": "a25cdeda-83b0-4993-d133-1fcd7f2f7123"
      },
      "source": [
        "# No último exemplo, nós removemos o 'Marcos' do nosso dicionário. Agora, vamos incluí-lo novamente utilizando o método update\n",
        "\n",
        "dicio.update({'Marcos':25})\n",
        "dicio"
      ],
      "execution_count": null,
      "outputs": [
        {
          "output_type": "execute_result",
          "data": {
            "text/plain": [
              "{'Ana': 19, 'Gabi': 23, 'Marcos': 25}"
            ]
          },
          "metadata": {
            "tags": []
          },
          "execution_count": 65
        }
      ]
    },
    {
      "cell_type": "code",
      "metadata": {
        "colab": {
          "base_uri": "https://localhost:8080/"
        },
        "id": "v7AA3WLncG1t",
        "outputId": "e5c28212-d759-4613-8677-4ad08ce10c18"
      },
      "source": [
        "# Além de adiconar novos itens, também podemos atualizar o que já está dentro do dicionário.\n",
        "\n",
        "# Vamos mudar a idade do 'Marcos' para 26 anos e incluir uma nova pessoa, a Leticia, no nosso dicionário.\n",
        "\n",
        "dicio.update({'Marcos':26, 'Leticia':28})\n",
        "dicio"
      ],
      "execution_count": null,
      "outputs": [
        {
          "output_type": "execute_result",
          "data": {
            "text/plain": [
              "{'Ana': 19, 'Gabi': 23, 'Leticia': 28, 'Marcos': 26}"
            ]
          },
          "metadata": {
            "tags": []
          },
          "execution_count": 67
        }
      ]
    },
    {
      "cell_type": "markdown",
      "metadata": {
        "id": "dWC0aFqTbQME"
      },
      "source": [
        "# copy\n",
        "\n",
        "#### O copy tem o mesmo principio da lista, ele cria uma cópia sem referenciar o original."
      ]
    },
    {
      "cell_type": "code",
      "metadata": {
        "colab": {
          "base_uri": "https://localhost:8080/"
        },
        "id": "rR9AuImBaaTp",
        "outputId": "790ea496-bb0f-4f8f-f3fc-d4c1c741db5a"
      },
      "source": [
        "dicio2 = dicio.copy()\n",
        "dicio2 \n",
        "\n",
        "# Se removermos um valor de 'dicio2' ele não fará alterações no 'dicio' original.\n",
        "\n",
        "del(dicio2['Leticia'])\n",
        "\n",
        "print(f'No dicio2 nós temos: {dicio2}')\n",
        "print(f'No dicio nós temos: {dicio}')"
      ],
      "execution_count": null,
      "outputs": [
        {
          "output_type": "stream",
          "text": [
            "No dicio2 nós temos: {'Ana': 19, 'Gabi': 23, 'Marcos': 26}\n",
            "No dicio nós temos: {'Ana': 19, 'Gabi': 23, 'Marcos': 26, 'Leticia': 28}\n"
          ],
          "name": "stdout"
        }
      ]
    },
    {
      "cell_type": "markdown",
      "metadata": {
        "id": "uN2Te64WbR_j"
      },
      "source": [
        "# pop\n",
        "\n",
        "#### O método 'pop' remove um item do dicionário. Ele faz uma busca pela chave passada por parâmetro e retorna o valor que foi removido."
      ]
    },
    {
      "cell_type": "code",
      "metadata": {
        "colab": {
          "base_uri": "https://localhost:8080/"
        },
        "id": "j_KujGzEbTfv",
        "outputId": "a9ad3ac1-08e2-48c8-a1a2-01a447722cae"
      },
      "source": [
        "# No exemplo abaixo vamos remover o 'Marcos'\n",
        "\n",
        "dicio2.pop('Marcos')"
      ],
      "execution_count": null,
      "outputs": [
        {
          "output_type": "execute_result",
          "data": {
            "text/plain": [
              "26"
            ]
          },
          "metadata": {
            "tags": []
          },
          "execution_count": 77
        }
      ]
    },
    {
      "cell_type": "code",
      "metadata": {
        "colab": {
          "base_uri": "https://localhost:8080/",
          "height": 197
        },
        "id": "C-xdMJ0QfAuv",
        "outputId": "c65986b6-1bb5-4756-993f-ec3aa750e01d"
      },
      "source": [
        "# Se indicarmos uma chave que não existe, o pop vai retornar um erro\n",
        "\n",
        "dicio2.pop('Maria')"
      ],
      "execution_count": null,
      "outputs": [
        {
          "output_type": "error",
          "ename": "KeyError",
          "evalue": "ignored",
          "traceback": [
            "\u001b[0;31m---------------------------------------------------------------------------\u001b[0m",
            "\u001b[0;31mKeyError\u001b[0m                                  Traceback (most recent call last)",
            "\u001b[0;32m<ipython-input-79-faa4a33ea7f4>\u001b[0m in \u001b[0;36m<module>\u001b[0;34m()\u001b[0m\n\u001b[1;32m      1\u001b[0m \u001b[0;31m# Se indicarmos uma chave que não existe, o pop vai retornar um erro\u001b[0m\u001b[0;34m\u001b[0m\u001b[0;34m\u001b[0m\u001b[0;34m\u001b[0m\u001b[0m\n\u001b[1;32m      2\u001b[0m \u001b[0;34m\u001b[0m\u001b[0m\n\u001b[0;32m----> 3\u001b[0;31m \u001b[0mdicio2\u001b[0m\u001b[0;34m.\u001b[0m\u001b[0mpop\u001b[0m\u001b[0;34m(\u001b[0m\u001b[0;34m'Maria'\u001b[0m\u001b[0;34m)\u001b[0m\u001b[0;34m\u001b[0m\u001b[0;34m\u001b[0m\u001b[0m\n\u001b[0m",
            "\u001b[0;31mKeyError\u001b[0m: 'Maria'"
          ]
        }
      ]
    },
    {
      "cell_type": "code",
      "metadata": {
        "colab": {
          "base_uri": "https://localhost:8080/",
          "height": 35
        },
        "id": "C-sRJVbqfNmZ",
        "outputId": "f74fed6a-a42c-4f19-d98c-14a40e1c73e0"
      },
      "source": [
        "# É possível tratar esse erro passando um segundo argumento. Caso ele não encontre o valor, ele retornará o argumento passado.\n",
        "\n",
        "dicio2.pop('Maria', 'Item não encontrado')"
      ],
      "execution_count": null,
      "outputs": [
        {
          "output_type": "execute_result",
          "data": {
            "application/vnd.google.colaboratory.intrinsic+json": {
              "type": "string"
            },
            "text/plain": [
              "'Item não encontrado'"
            ]
          },
          "metadata": {
            "tags": []
          },
          "execution_count": 81
        }
      ]
    },
    {
      "cell_type": "markdown",
      "metadata": {
        "id": "Th_y1qWTbVfL"
      },
      "source": [
        "# clear\n",
        "\n",
        "#### O método 'clear' apaga todo o dicionário"
      ]
    },
    {
      "cell_type": "code",
      "metadata": {
        "colab": {
          "base_uri": "https://localhost:8080/"
        },
        "id": "FUB87ESVgILU",
        "outputId": "748617aa-185a-487b-934e-eedc3672dfb8"
      },
      "source": [
        "dicio2"
      ],
      "execution_count": null,
      "outputs": [
        {
          "output_type": "execute_result",
          "data": {
            "text/plain": [
              "{'Ana': 19, 'Gabi': 23}"
            ]
          },
          "metadata": {
            "tags": []
          },
          "execution_count": 82
        }
      ]
    },
    {
      "cell_type": "code",
      "metadata": {
        "colab": {
          "base_uri": "https://localhost:8080/"
        },
        "id": "MTj0RKoegOXt",
        "outputId": "14d99ae3-8d02-4780-adf4-d1d50ac7e4d2"
      },
      "source": [
        "dicio2.clear()\n",
        "dicio2"
      ],
      "execution_count": null,
      "outputs": [
        {
          "output_type": "execute_result",
          "data": {
            "text/plain": [
              "{}"
            ]
          },
          "metadata": {
            "tags": []
          },
          "execution_count": 84
        }
      ]
    },
    {
      "cell_type": "markdown",
      "metadata": {
        "id": "luu41TE_g_Zn"
      },
      "source": [
        "# Iteração - Dicionário"
      ]
    },
    {
      "cell_type": "markdown",
      "metadata": {
        "id": "95xs8ZLgvDKs"
      },
      "source": [
        "# keys\n",
        "\n",
        "#### Retorna uma lista com as chaves (keys) do dicionário"
      ]
    },
    {
      "cell_type": "code",
      "metadata": {
        "colab": {
          "base_uri": "https://localhost:8080/"
        },
        "id": "bgIGlBd_hCPO",
        "outputId": "f102a8e9-8b05-4a11-ab46-d2e2e30b7e75"
      },
      "source": [
        "dicio = {'Ana': 19, 'Gabi': 23, 'Marcos': 25, 'Leticia':27, 'Vitor':28}\n",
        "dicio"
      ],
      "execution_count": null,
      "outputs": [
        {
          "output_type": "execute_result",
          "data": {
            "text/plain": [
              "{'Ana': 19, 'Gabi': 23, 'Leticia': 27, 'Marcos': 25, 'Vitor': 28}"
            ]
          },
          "metadata": {
            "tags": []
          },
          "execution_count": 88
        }
      ]
    },
    {
      "cell_type": "code",
      "metadata": {
        "colab": {
          "base_uri": "https://localhost:8080/"
        },
        "id": "4yljOZvQvaZP",
        "outputId": "488e936a-be20-438e-cad1-ee8497dd39ec"
      },
      "source": [
        "dicio.keys()"
      ],
      "execution_count": null,
      "outputs": [
        {
          "output_type": "execute_result",
          "data": {
            "text/plain": [
              "dict_keys(['Ana', 'Gabi', 'Marcos', 'Leticia', 'Vitor'])"
            ]
          },
          "metadata": {
            "tags": []
          },
          "execution_count": 89
        }
      ]
    },
    {
      "cell_type": "code",
      "metadata": {
        "colab": {
          "base_uri": "https://localhost:8080/"
        },
        "id": "ALV2b_M4v24u",
        "outputId": "45a03124-dc54-4d60-a6fb-fd11f55c4cad"
      },
      "source": [
        "# Como retorna uma lista, podemos iterar com o laço 'for'\n",
        "\n",
        "for i in dicio.keys():\n",
        "  print(i)"
      ],
      "execution_count": null,
      "outputs": [
        {
          "output_type": "stream",
          "text": [
            "Ana\n",
            "Gabi\n",
            "Marcos\n",
            "Leticia\n",
            "Vitor\n"
          ],
          "name": "stdout"
        }
      ]
    },
    {
      "cell_type": "code",
      "metadata": {
        "colab": {
          "base_uri": "https://localhost:8080/"
        },
        "id": "pUbzeA4IwbMG",
        "outputId": "52935a99-a1c4-457b-d64f-388a9a43907b"
      },
      "source": [
        "# Ou para ver os valores que correspondem à chave\n",
        "\n",
        "for i in dicio.keys():\n",
        "  print(dicio[i])"
      ],
      "execution_count": null,
      "outputs": [
        {
          "output_type": "stream",
          "text": [
            "19\n",
            "23\n",
            "25\n",
            "27\n",
            "28\n"
          ],
          "name": "stdout"
        }
      ]
    },
    {
      "cell_type": "markdown",
      "metadata": {
        "id": "zAE0RyouvOxw"
      },
      "source": [
        "# values\n",
        "\n",
        "#### Retorna uma lista com os valores (values) do dicionário\n"
      ]
    },
    {
      "cell_type": "code",
      "metadata": {
        "colab": {
          "base_uri": "https://localhost:8080/"
        },
        "id": "jUsndxgbu1aj",
        "outputId": "61261732-0198-47f3-b47f-cd2e1025093a"
      },
      "source": [
        "dicio.values()"
      ],
      "execution_count": null,
      "outputs": [
        {
          "output_type": "execute_result",
          "data": {
            "text/plain": [
              "dict_values([19, 23, 25, 27, 28])"
            ]
          },
          "metadata": {
            "tags": []
          },
          "execution_count": 90
        }
      ]
    },
    {
      "cell_type": "code",
      "metadata": {
        "colab": {
          "base_uri": "https://localhost:8080/"
        },
        "id": "69PAfFcIwDGZ",
        "outputId": "cb25c7ea-1a25-4de8-92ed-d6bf47473178"
      },
      "source": [
        "# Como retorna uma lista, também podemos iterar com o laço 'for'\n",
        "\n",
        "for i in dicio.values():\n",
        "  print(i)"
      ],
      "execution_count": null,
      "outputs": [
        {
          "output_type": "stream",
          "text": [
            "19\n",
            "23\n",
            "25\n",
            "27\n",
            "28\n"
          ],
          "name": "stdout"
        }
      ]
    },
    {
      "cell_type": "markdown",
      "metadata": {
        "id": "rhiISzY_vg4S"
      },
      "source": [
        "# items\n",
        "\n",
        "#### Retona uma lista contendo uma tupla para cada chave/valor"
      ]
    },
    {
      "cell_type": "code",
      "metadata": {
        "colab": {
          "base_uri": "https://localhost:8080/"
        },
        "id": "MKdepPNZvdn2",
        "outputId": "d4642f03-5708-4d98-e666-4f10655ece4a"
      },
      "source": [
        "dicio.items()"
      ],
      "execution_count": null,
      "outputs": [
        {
          "output_type": "execute_result",
          "data": {
            "text/plain": [
              "dict_items([('Ana', 19), ('Gabi', 23), ('Marcos', 25), ('Leticia', 27), ('Vitor', 28)])"
            ]
          },
          "metadata": {
            "tags": []
          },
          "execution_count": 91
        }
      ]
    },
    {
      "cell_type": "code",
      "metadata": {
        "colab": {
          "base_uri": "https://localhost:8080/"
        },
        "id": "JIuUyET1vkqs",
        "outputId": "46fd20f1-7f2e-4442-908d-a86f1a1c62b9"
      },
      "source": [
        "# Também podemos iterar com o for.\n",
        "\n",
        "for i in dicio.items():\n",
        "  print(i)"
      ],
      "execution_count": null,
      "outputs": [
        {
          "output_type": "stream",
          "text": [
            "('Ana', 19)\n",
            "('Gabi', 23)\n",
            "('Marcos', 25)\n",
            "('Leticia', 27)\n",
            "('Vitor', 28)\n"
          ],
          "name": "stdout"
        }
      ]
    },
    {
      "cell_type": "code",
      "metadata": {
        "colab": {
          "base_uri": "https://localhost:8080/"
        },
        "id": "5sw4NKJ6w91G",
        "outputId": "8cd5aa77-585c-4975-85fb-5b8356ac9eff"
      },
      "source": [
        "# Podemos acessar os valores individualmente\n",
        "\n",
        "for key, item in dicio.items():\n",
        "  print(key, item)"
      ],
      "execution_count": null,
      "outputs": [
        {
          "output_type": "stream",
          "text": [
            "Ana 19\n",
            "Gabi 23\n",
            "Marcos 25\n",
            "Leticia 27\n",
            "Vitor 28\n"
          ],
          "name": "stdout"
        }
      ]
    },
    {
      "cell_type": "code",
      "metadata": {
        "colab": {
          "base_uri": "https://localhost:8080/"
        },
        "id": "4gfWCYoqxniM",
        "outputId": "d858a621-fc36-4167-ca78-a19e1ed24ba3"
      },
      "source": [
        "# Também podemos criar filtros.\n",
        "\n",
        "# Vamos criar um filtro para mostrar apenas pessoas com mais de 24 anos\n",
        "\n",
        "for key, item in dicio.items():\n",
        "  if item > 24:\n",
        "    print(key, item)"
      ],
      "execution_count": null,
      "outputs": [
        {
          "output_type": "stream",
          "text": [
            "Marcos 25\n",
            "Leticia 27\n",
            "Vitor 28\n"
          ],
          "name": "stdout"
        }
      ]
    },
    {
      "cell_type": "markdown",
      "metadata": {
        "id": "CpzenMxKdW4w"
      },
      "source": [
        "# Estrutura de dados"
      ]
    },
    {
      "cell_type": "markdown",
      "metadata": {
        "id": "TJQhXEApdeHS"
      },
      "source": [
        "# Series\n",
        "\n",
        "#### Criando uma Series a partir de uma lista"
      ]
    },
    {
      "cell_type": "code",
      "metadata": {
        "colab": {
          "base_uri": "https://localhost:8080/"
        },
        "id": "dX11q5POdXPy",
        "outputId": "aa04b1dd-b1c8-4ae4-d256-67bdcedbd511"
      },
      "source": [
        "nomes = ['Gabi', 'Ana', 'Marcos']\n",
        "nomes"
      ],
      "execution_count": 2,
      "outputs": [
        {
          "output_type": "execute_result",
          "data": {
            "text/plain": [
              "['Gabi', 'Ana', 'Marcos']"
            ]
          },
          "metadata": {
            "tags": []
          },
          "execution_count": 2
        }
      ]
    },
    {
      "cell_type": "code",
      "metadata": {
        "colab": {
          "base_uri": "https://localhost:8080/"
        },
        "id": "aE9WucBadxG4",
        "outputId": "c7f0f7d9-4073-43c1-fbce-55fa8529044d"
      },
      "source": [
        "# Utilizando o 'pd.Series' você transforma uma lista em uma Series\n",
        "# Lembrando que o Pandas assume que strings são do tipo object\n",
        "\n",
        "pd.Series(nomes)"
      ],
      "execution_count": 4,
      "outputs": [
        {
          "output_type": "execute_result",
          "data": {
            "text/plain": [
              "0      Gabi\n",
              "1       Ana\n",
              "2    Marcos\n",
              "dtype: object"
            ]
          },
          "metadata": {
            "tags": []
          },
          "execution_count": 4
        }
      ]
    },
    {
      "cell_type": "markdown",
      "metadata": {
        "id": "lg0MNQjfeHKh"
      },
      "source": [
        "# Criando um dataframe a partir de uma lista de dicionários"
      ]
    },
    {
      "cell_type": "code",
      "metadata": {
        "id": "ExcGWTE-dzB_"
      },
      "source": [
        "info = [{'Nome': 'Ana', 'Idade': 19, 'Sexo':'Feminino', 'Altura': 1.68, 'Profissão':'Dentista', 'Renda_Mensal':'8.000'},\n",
        "        {'Nome': 'Gabi', 'Idade': 22, 'Sexo':'Feminino', 'Altura': 1.73, 'Profissão':'Arquiteto', 'Renda_Mensal':'10.000'},\n",
        "        {'Nome': 'Marcos', 'Idade': 24, 'Sexo':'Masculino', 'Altura': 1.75, 'Profissão':'Engenheiro', 'Renda_Mensal':'7.000'}]"
      ],
      "execution_count": 9,
      "outputs": []
    },
    {
      "cell_type": "code",
      "metadata": {
        "colab": {
          "base_uri": "https://localhost:8080/",
          "height": 142
        },
        "id": "WvSDcxAvfm8y",
        "outputId": "185b0566-5741-4f81-8ce2-404beaf6a94d"
      },
      "source": [
        "# Como estamos utilizando dicionários, as chaves (keys) são atribuídas automáticamente ao nome das colunas.\n",
        "\n",
        "info_DF = pd.DataFrame(info)\n",
        "info_DF"
      ],
      "execution_count": 10,
      "outputs": [
        {
          "output_type": "execute_result",
          "data": {
            "text/html": [
              "<div>\n",
              "<style scoped>\n",
              "    .dataframe tbody tr th:only-of-type {\n",
              "        vertical-align: middle;\n",
              "    }\n",
              "\n",
              "    .dataframe tbody tr th {\n",
              "        vertical-align: top;\n",
              "    }\n",
              "\n",
              "    .dataframe thead th {\n",
              "        text-align: right;\n",
              "    }\n",
              "</style>\n",
              "<table border=\"1\" class=\"dataframe\">\n",
              "  <thead>\n",
              "    <tr style=\"text-align: right;\">\n",
              "      <th></th>\n",
              "      <th>Nome</th>\n",
              "      <th>Idade</th>\n",
              "      <th>Sexo</th>\n",
              "      <th>Altura</th>\n",
              "      <th>Profissão</th>\n",
              "      <th>Renda_Mensal</th>\n",
              "    </tr>\n",
              "  </thead>\n",
              "  <tbody>\n",
              "    <tr>\n",
              "      <th>0</th>\n",
              "      <td>Ana</td>\n",
              "      <td>19</td>\n",
              "      <td>Feminino</td>\n",
              "      <td>1.68</td>\n",
              "      <td>Dentista</td>\n",
              "      <td>8.000</td>\n",
              "    </tr>\n",
              "    <tr>\n",
              "      <th>1</th>\n",
              "      <td>Gabi</td>\n",
              "      <td>22</td>\n",
              "      <td>Feminino</td>\n",
              "      <td>1.73</td>\n",
              "      <td>Arquiteto</td>\n",
              "      <td>10.000</td>\n",
              "    </tr>\n",
              "    <tr>\n",
              "      <th>2</th>\n",
              "      <td>Marcos</td>\n",
              "      <td>24</td>\n",
              "      <td>Masculino</td>\n",
              "      <td>1.75</td>\n",
              "      <td>Engenheiro</td>\n",
              "      <td>7.000</td>\n",
              "    </tr>\n",
              "  </tbody>\n",
              "</table>\n",
              "</div>"
            ],
            "text/plain": [
              "     Nome  Idade       Sexo  Altura   Profissão Renda_Mensal\n",
              "0     Ana     19   Feminino    1.68    Dentista        8.000\n",
              "1    Gabi     22   Feminino    1.73   Arquiteto       10.000\n",
              "2  Marcos     24  Masculino    1.75  Engenheiro        7.000"
            ]
          },
          "metadata": {
            "tags": []
          },
          "execution_count": 10
        }
      ]
    },
    {
      "cell_type": "code",
      "metadata": {
        "colab": {
          "base_uri": "https://localhost:8080/",
          "height": 142
        },
        "id": "QI6VfIVRfzba",
        "outputId": "0cbc3a7f-c9fb-4570-85b6-709d662aec5c"
      },
      "source": [
        "# Para modificar a ordem das colunas de forma simples, basta chamar o dataframe e abrir dois colchetes passando os nomes na ordem que deseja.\n",
        "\n",
        "info_DF[['Nome', 'Sexo', 'Idade','Altura','Renda_Mensal','Profissão']]"
      ],
      "execution_count": 11,
      "outputs": [
        {
          "output_type": "execute_result",
          "data": {
            "text/html": [
              "<div>\n",
              "<style scoped>\n",
              "    .dataframe tbody tr th:only-of-type {\n",
              "        vertical-align: middle;\n",
              "    }\n",
              "\n",
              "    .dataframe tbody tr th {\n",
              "        vertical-align: top;\n",
              "    }\n",
              "\n",
              "    .dataframe thead th {\n",
              "        text-align: right;\n",
              "    }\n",
              "</style>\n",
              "<table border=\"1\" class=\"dataframe\">\n",
              "  <thead>\n",
              "    <tr style=\"text-align: right;\">\n",
              "      <th></th>\n",
              "      <th>Nome</th>\n",
              "      <th>Sexo</th>\n",
              "      <th>Idade</th>\n",
              "      <th>Altura</th>\n",
              "      <th>Renda_Mensal</th>\n",
              "      <th>Profissão</th>\n",
              "    </tr>\n",
              "  </thead>\n",
              "  <tbody>\n",
              "    <tr>\n",
              "      <th>0</th>\n",
              "      <td>Ana</td>\n",
              "      <td>Feminino</td>\n",
              "      <td>19</td>\n",
              "      <td>1.68</td>\n",
              "      <td>8.000</td>\n",
              "      <td>Dentista</td>\n",
              "    </tr>\n",
              "    <tr>\n",
              "      <th>1</th>\n",
              "      <td>Gabi</td>\n",
              "      <td>Feminino</td>\n",
              "      <td>22</td>\n",
              "      <td>1.73</td>\n",
              "      <td>10.000</td>\n",
              "      <td>Arquiteto</td>\n",
              "    </tr>\n",
              "    <tr>\n",
              "      <th>2</th>\n",
              "      <td>Marcos</td>\n",
              "      <td>Masculino</td>\n",
              "      <td>24</td>\n",
              "      <td>1.75</td>\n",
              "      <td>7.000</td>\n",
              "      <td>Engenheiro</td>\n",
              "    </tr>\n",
              "  </tbody>\n",
              "</table>\n",
              "</div>"
            ],
            "text/plain": [
              "     Nome       Sexo  Idade  Altura Renda_Mensal   Profissão\n",
              "0     Ana   Feminino     19    1.68        8.000    Dentista\n",
              "1    Gabi   Feminino     22    1.73       10.000   Arquiteto\n",
              "2  Marcos  Masculino     24    1.75        7.000  Engenheiro"
            ]
          },
          "metadata": {
            "tags": []
          },
          "execution_count": 11
        }
      ]
    },
    {
      "cell_type": "markdown",
      "metadata": {
        "id": "9Uf87pizhbY7"
      },
      "source": [
        "# Criando um DF a partitir de um dicionário com listas de valores"
      ]
    },
    {
      "cell_type": "code",
      "metadata": {
        "colab": {
          "base_uri": "https://localhost:8080/"
        },
        "id": "_1_ZUne6hUYb",
        "outputId": "c88234be-254d-4b23-e61d-f6b9ada30232"
      },
      "source": [
        "new_Info = {'Nome':['Ana','Gabi','Marcos'],\n",
        "            'Sexo':['Feminino','Feminino','Masculino'],\n",
        "            'Idade':[19,22,24],\n",
        "            'Altura':[1.68,1.73,1.75],\n",
        "            'Renda_Mensal':[8.000,10.000,7.000],\n",
        "            'Profissão':['Dentista','Arquiteto','Engenheiro']}\n",
        "new_Info"
      ],
      "execution_count": 15,
      "outputs": [
        {
          "output_type": "execute_result",
          "data": {
            "text/plain": [
              "{'Altura': [1.68, 1.73, 1.75],\n",
              " 'Idade': [19, 22, 24],\n",
              " 'Nome': ['Ana', 'Gabi', 'Marcos'],\n",
              " 'Profissão': ['Dentista', 'Arquiteto', 'Engenheiro'],\n",
              " 'Renda_Mensal': [8.0, 10.0, 7.0],\n",
              " 'Sexo': ['Feminino', 'Feminino', 'Masculino']}"
            ]
          },
          "metadata": {
            "tags": []
          },
          "execution_count": 15
        }
      ]
    },
    {
      "cell_type": "code",
      "metadata": {
        "colab": {
          "base_uri": "https://localhost:8080/",
          "height": 142
        },
        "id": "bk_J7gEyhOmu",
        "outputId": "8c9e6522-0325-4e64-c7ef-de697ef330e7"
      },
      "source": [
        "new_Info_DF = pd.DataFrame(new_Info)\n",
        "new_Info_DF"
      ],
      "execution_count": 29,
      "outputs": [
        {
          "output_type": "execute_result",
          "data": {
            "text/html": [
              "<div>\n",
              "<style scoped>\n",
              "    .dataframe tbody tr th:only-of-type {\n",
              "        vertical-align: middle;\n",
              "    }\n",
              "\n",
              "    .dataframe tbody tr th {\n",
              "        vertical-align: top;\n",
              "    }\n",
              "\n",
              "    .dataframe thead th {\n",
              "        text-align: right;\n",
              "    }\n",
              "</style>\n",
              "<table border=\"1\" class=\"dataframe\">\n",
              "  <thead>\n",
              "    <tr style=\"text-align: right;\">\n",
              "      <th></th>\n",
              "      <th>Nome</th>\n",
              "      <th>Sexo</th>\n",
              "      <th>Idade</th>\n",
              "      <th>Altura</th>\n",
              "      <th>Renda_Mensal</th>\n",
              "      <th>Profissão</th>\n",
              "    </tr>\n",
              "  </thead>\n",
              "  <tbody>\n",
              "    <tr>\n",
              "      <th>0</th>\n",
              "      <td>Ana</td>\n",
              "      <td>Feminino</td>\n",
              "      <td>19</td>\n",
              "      <td>1.68</td>\n",
              "      <td>8.0</td>\n",
              "      <td>Dentista</td>\n",
              "    </tr>\n",
              "    <tr>\n",
              "      <th>1</th>\n",
              "      <td>Gabi</td>\n",
              "      <td>Feminino</td>\n",
              "      <td>22</td>\n",
              "      <td>1.73</td>\n",
              "      <td>10.0</td>\n",
              "      <td>Arquiteto</td>\n",
              "    </tr>\n",
              "    <tr>\n",
              "      <th>2</th>\n",
              "      <td>Marcos</td>\n",
              "      <td>Masculino</td>\n",
              "      <td>24</td>\n",
              "      <td>1.75</td>\n",
              "      <td>7.0</td>\n",
              "      <td>Engenheiro</td>\n",
              "    </tr>\n",
              "  </tbody>\n",
              "</table>\n",
              "</div>"
            ],
            "text/plain": [
              "     Nome       Sexo  Idade  Altura  Renda_Mensal   Profissão\n",
              "0     Ana   Feminino     19    1.68           8.0    Dentista\n",
              "1    Gabi   Feminino     22    1.73          10.0   Arquiteto\n",
              "2  Marcos  Masculino     24    1.75           7.0  Engenheiro"
            ]
          },
          "metadata": {
            "tags": []
          },
          "execution_count": 29
        }
      ]
    },
    {
      "cell_type": "markdown",
      "metadata": {
        "id": "wNVvHgDHjhZn"
      },
      "source": [
        "# Seleção de dados no DF"
      ]
    },
    {
      "cell_type": "code",
      "metadata": {
        "colab": {
          "base_uri": "https://localhost:8080/",
          "height": 297
        },
        "id": "oJTgc_WKiRWr",
        "outputId": "25189912-6119-46a4-c0de-4b6136d515b6"
      },
      "source": [
        "dados_Info = pd.read_csv('Dados_Pessoas.csv')\n",
        "dados_Info"
      ],
      "execution_count": 31,
      "outputs": [
        {
          "output_type": "execute_result",
          "data": {
            "text/html": [
              "<div>\n",
              "<style scoped>\n",
              "    .dataframe tbody tr th:only-of-type {\n",
              "        vertical-align: middle;\n",
              "    }\n",
              "\n",
              "    .dataframe tbody tr th {\n",
              "        vertical-align: top;\n",
              "    }\n",
              "\n",
              "    .dataframe thead th {\n",
              "        text-align: right;\n",
              "    }\n",
              "</style>\n",
              "<table border=\"1\" class=\"dataframe\">\n",
              "  <thead>\n",
              "    <tr style=\"text-align: right;\">\n",
              "      <th></th>\n",
              "      <th>Nome</th>\n",
              "      <th>Idade</th>\n",
              "      <th>Sexo</th>\n",
              "      <th>Altura</th>\n",
              "      <th>Profissão</th>\n",
              "      <th>Renda_Mensal</th>\n",
              "    </tr>\n",
              "  </thead>\n",
              "  <tbody>\n",
              "    <tr>\n",
              "      <th>0</th>\n",
              "      <td>Ana</td>\n",
              "      <td>19</td>\n",
              "      <td>Feminino</td>\n",
              "      <td>1.68</td>\n",
              "      <td>Dentista</td>\n",
              "      <td>8.299</td>\n",
              "    </tr>\n",
              "    <tr>\n",
              "      <th>1</th>\n",
              "      <td>Gabi</td>\n",
              "      <td>22</td>\n",
              "      <td>Feminino</td>\n",
              "      <td>1.73</td>\n",
              "      <td>Arquiteto</td>\n",
              "      <td>10.587</td>\n",
              "    </tr>\n",
              "    <tr>\n",
              "      <th>2</th>\n",
              "      <td>Marcos</td>\n",
              "      <td>24</td>\n",
              "      <td>Masculino</td>\n",
              "      <td>1.75</td>\n",
              "      <td>Engenheiro</td>\n",
              "      <td>7.659</td>\n",
              "    </tr>\n",
              "    <tr>\n",
              "      <th>3</th>\n",
              "      <td>Matheus</td>\n",
              "      <td>26</td>\n",
              "      <td>Masculino</td>\n",
              "      <td>1.78</td>\n",
              "      <td>Programador</td>\n",
              "      <td>5.326</td>\n",
              "    </tr>\n",
              "    <tr>\n",
              "      <th>4</th>\n",
              "      <td>Luisa</td>\n",
              "      <td>29</td>\n",
              "      <td>Feminino</td>\n",
              "      <td>1.67</td>\n",
              "      <td>Programador</td>\n",
              "      <td>12.652</td>\n",
              "    </tr>\n",
              "    <tr>\n",
              "      <th>5</th>\n",
              "      <td>Gilson</td>\n",
              "      <td>25</td>\n",
              "      <td>Masculino</td>\n",
              "      <td>1.80</td>\n",
              "      <td>Médico</td>\n",
              "      <td>8.295</td>\n",
              "    </tr>\n",
              "    <tr>\n",
              "      <th>6</th>\n",
              "      <td>Leticia</td>\n",
              "      <td>31</td>\n",
              "      <td>Feminino</td>\n",
              "      <td>1.85</td>\n",
              "      <td>Arquiteto</td>\n",
              "      <td>7.853</td>\n",
              "    </tr>\n",
              "    <tr>\n",
              "      <th>7</th>\n",
              "      <td>Rafaela</td>\n",
              "      <td>27</td>\n",
              "      <td>Feminino</td>\n",
              "      <td>1.78</td>\n",
              "      <td>Programador</td>\n",
              "      <td>13.586</td>\n",
              "    </tr>\n",
              "  </tbody>\n",
              "</table>\n",
              "</div>"
            ],
            "text/plain": [
              "      Nome  Idade       Sexo  Altura    Profissão  Renda_Mensal\n",
              "0      Ana     19   Feminino    1.68     Dentista         8.299\n",
              "1     Gabi     22   Feminino    1.73    Arquiteto        10.587\n",
              "2   Marcos     24  Masculino    1.75   Engenheiro         7.659\n",
              "3  Matheus     26  Masculino    1.78  Programador         5.326\n",
              "4    Luisa     29   Feminino    1.67  Programador        12.652\n",
              "5   Gilson     25  Masculino    1.80       Médico         8.295\n",
              "6  Leticia     31   Feminino    1.85    Arquiteto         7.853\n",
              "7  Rafaela     27   Feminino    1.78  Programador        13.586"
            ]
          },
          "metadata": {
            "tags": []
          },
          "execution_count": 31
        }
      ]
    },
    {
      "cell_type": "code",
      "metadata": {
        "id": "BZw50ZeTldQU"
      },
      "source": [
        "# Por padrão, quando é criado o DF, ele cria um índice númerico correspondente ao número de linhas, a partir do 0.\n",
        "# Para definir uma coluna como índice, basta passar o argumento 'index_col' igualando ao índice da coluna.\n",
        "# No exemplo abaixo vamos colocar a coluna 'Nome' como indice. A coluna 'Nome está na posição 0'\n",
        "\n",
        "dados_teste = pd.read_csv('Dados_Pessoas.csv', index_col= 0)"
      ],
      "execution_count": 32,
      "outputs": []
    },
    {
      "cell_type": "code",
      "metadata": {
        "colab": {
          "base_uri": "https://localhost:8080/",
          "height": 328
        },
        "id": "-gy9Xx_Fljlx",
        "outputId": "43cda119-8409-47c9-dc04-f333a0b5b317"
      },
      "source": [
        "dados_teste"
      ],
      "execution_count": 34,
      "outputs": [
        {
          "output_type": "execute_result",
          "data": {
            "text/html": [
              "<div>\n",
              "<style scoped>\n",
              "    .dataframe tbody tr th:only-of-type {\n",
              "        vertical-align: middle;\n",
              "    }\n",
              "\n",
              "    .dataframe tbody tr th {\n",
              "        vertical-align: top;\n",
              "    }\n",
              "\n",
              "    .dataframe thead th {\n",
              "        text-align: right;\n",
              "    }\n",
              "</style>\n",
              "<table border=\"1\" class=\"dataframe\">\n",
              "  <thead>\n",
              "    <tr style=\"text-align: right;\">\n",
              "      <th></th>\n",
              "      <th>Idade</th>\n",
              "      <th>Sexo</th>\n",
              "      <th>Altura</th>\n",
              "      <th>Profissão</th>\n",
              "      <th>Renda_Mensal</th>\n",
              "    </tr>\n",
              "    <tr>\n",
              "      <th>Nome</th>\n",
              "      <th></th>\n",
              "      <th></th>\n",
              "      <th></th>\n",
              "      <th></th>\n",
              "      <th></th>\n",
              "    </tr>\n",
              "  </thead>\n",
              "  <tbody>\n",
              "    <tr>\n",
              "      <th>Ana</th>\n",
              "      <td>19</td>\n",
              "      <td>Feminino</td>\n",
              "      <td>1.68</td>\n",
              "      <td>Dentista</td>\n",
              "      <td>8.299</td>\n",
              "    </tr>\n",
              "    <tr>\n",
              "      <th>Gabi</th>\n",
              "      <td>22</td>\n",
              "      <td>Feminino</td>\n",
              "      <td>1.73</td>\n",
              "      <td>Arquiteto</td>\n",
              "      <td>10.587</td>\n",
              "    </tr>\n",
              "    <tr>\n",
              "      <th>Marcos</th>\n",
              "      <td>24</td>\n",
              "      <td>Masculino</td>\n",
              "      <td>1.75</td>\n",
              "      <td>Engenheiro</td>\n",
              "      <td>7.659</td>\n",
              "    </tr>\n",
              "    <tr>\n",
              "      <th>Matheus</th>\n",
              "      <td>26</td>\n",
              "      <td>Masculino</td>\n",
              "      <td>1.78</td>\n",
              "      <td>Programador</td>\n",
              "      <td>5.326</td>\n",
              "    </tr>\n",
              "    <tr>\n",
              "      <th>Luisa</th>\n",
              "      <td>29</td>\n",
              "      <td>Feminino</td>\n",
              "      <td>1.67</td>\n",
              "      <td>Programador</td>\n",
              "      <td>12.652</td>\n",
              "    </tr>\n",
              "    <tr>\n",
              "      <th>Gilson</th>\n",
              "      <td>25</td>\n",
              "      <td>Masculino</td>\n",
              "      <td>1.80</td>\n",
              "      <td>Médico</td>\n",
              "      <td>8.295</td>\n",
              "    </tr>\n",
              "    <tr>\n",
              "      <th>Leticia</th>\n",
              "      <td>31</td>\n",
              "      <td>Feminino</td>\n",
              "      <td>1.85</td>\n",
              "      <td>Arquiteto</td>\n",
              "      <td>7.853</td>\n",
              "    </tr>\n",
              "    <tr>\n",
              "      <th>Rafaela</th>\n",
              "      <td>27</td>\n",
              "      <td>Feminino</td>\n",
              "      <td>1.78</td>\n",
              "      <td>Programador</td>\n",
              "      <td>13.586</td>\n",
              "    </tr>\n",
              "  </tbody>\n",
              "</table>\n",
              "</div>"
            ],
            "text/plain": [
              "         Idade       Sexo  Altura    Profissão  Renda_Mensal\n",
              "Nome                                                        \n",
              "Ana         19   Feminino    1.68     Dentista         8.299\n",
              "Gabi        22   Feminino    1.73    Arquiteto        10.587\n",
              "Marcos      24  Masculino    1.75   Engenheiro         7.659\n",
              "Matheus     26  Masculino    1.78  Programador         5.326\n",
              "Luisa       29   Feminino    1.67  Programador        12.652\n",
              "Gilson      25  Masculino    1.80       Médico         8.295\n",
              "Leticia     31   Feminino    1.85    Arquiteto         7.853\n",
              "Rafaela     27   Feminino    1.78  Programador        13.586"
            ]
          },
          "metadata": {
            "tags": []
          },
          "execution_count": 34
        }
      ]
    },
    {
      "cell_type": "code",
      "metadata": {
        "id": "DDkklB3PpfK_"
      },
      "source": [
        ""
      ],
      "execution_count": null,
      "outputs": []
    }
  ]
}